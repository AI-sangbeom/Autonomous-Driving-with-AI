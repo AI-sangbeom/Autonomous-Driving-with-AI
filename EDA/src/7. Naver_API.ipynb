{
 "cells": [
  {
   "cell_type": "code",
   "execution_count": 1,
   "metadata": {},
   "outputs": [],
   "source": [
    "import sys\n",
    "import urllib\n",
    "from urllib.request import Request, urlopen\n",
    "\n",
    "client_id = ''\n",
    "client_secret = ''\n",
    "encText = urllib.parse.quote('파이썬')\n",
    "# https://openapi.naver.com를 통해 naver api를 사용할 수 있는 듯 \n",
    "url = 'https://openapi.naver.com/v1/search/blog?query=' + encText\n",
    "\n",
    "request = Request(url)\n",
    "request.add_header('X-Naver-Client-Id', client_id)\n",
    "request.add_header('X-Naver-Client-Secret', client_secret)\n",
    "\n",
    "response = urlopen(request)"
   ]
  },
  {
   "cell_type": "code",
   "execution_count": 2,
   "metadata": {},
   "outputs": [
    {
     "name": "stdout",
     "output_type": "stream",
     "text": [
      "{\n",
      "\t\"lastBuildDate\":\"Thu, 29 Aug 2024 10:05:08 +0900\",\n",
      "\t\"total\":488678,\n",
      "\t\"start\":1,\n",
      "\t\"display\":10,\n",
      "\t\"items\":[\n",
      "\t\t{\n",
      "\t\t\t\"title\":\"<b>파이썬<\\/b>강의 기초 이론과 실무 수업!\",\n",
      "\t\t\t\"link\":\"https:\\/\\/blog.naver.com\\/dmsdud0395\\/223521719198\",\n",
      "\t\t\t\"description\":\"그래서 언젠가는 <b>파이썬<\\/b>강의를 한 번 들어봐야겠다고 생각을 했었는데 마침 여러 가지로 여건이... Python(<b>파이썬<\\/b>)이란? <b>파이썬<\\/b>이라는 것이 생소하게 느껴지는 분들이 계실 것 같아서 우선 이에 대한 소개부터... \",\n",
      "\t\t\t\"bloggername\":\"그럼에도 불구하고..\",\n",
      "\t\t\t\"bloggerlink\":\"blog.naver.com\\/dmsdud0395\",\n",
      "\t\t\t\"postdate\":\"20240722\"\n",
      "\t\t},\n",
      "\t\t{\n",
      "\t\t\t\"title\":\"베몽테스 콜라멜 마스크팩, 베몽테스쿠션, <b>파이썬<\\/b>가드 진짜... \",\n",
      "\t\t\t\"link\":\"https:\\/\\/blog.naver.com\\/madddist\\/223501713325\",\n",
      "\t\t\t\"description\":\"VEMONTES 콜라멜 마스크 <b>파이썬<\\/b>가드 선크림 비비쿠션팩트 몽골 출장은 요 세 녀석으로 버텼다고 할 수... 베몽테스 <b>파이썬<\\/b>가드 선크림 샘플로 썼던 것 중 선크림이 좋아서 문의를 드렸는데 그것이 바로 #베몽테스... \",\n",
      "\t\t\t\"bloggername\":\"쉬고 싶은 요리사\",\n",
      "\t\t\t\"bloggerlink\":\"blog.naver.com\\/madddist\",\n",
      "\t\t\t\"postdate\":\"20240704\"\n",
      "\t\t},\n",
      "\t\t{\n",
      "\t\t\t\"title\":\"안산코딩학원 취업을 위한, <b>파이썬<\\/b> 공부과정\",\n",
      "\t\t\t\"link\":\"https:\\/\\/blog.naver.com\\/thfk8158\\/223557390118\",\n",
      "\t\t\t\"description\":\"그리고 제가 선택한 분야는 바로 <b>파이썬<\\/b>이라는 프로그래밍 언어였는데, 마침 저에게 적합한 안산코딩학원이 있어서 공부를 시작하게 됐고 기초부터 탄탄하게 배우며 스킬을 늘리고 있는 중이에요. <b>파이썬<\\/b>(python)... \",\n",
      "\t\t\t\"bloggername\":\"순간을 영원히,\",\n",
      "\t\t\t\"bloggerlink\":\"blog.naver.com\\/thfk8158\",\n",
      "\t\t\t\"postdate\":\"20240822\"\n",
      "\t\t},\n",
      "\t\t{\n",
      "\t\t\t\"title\":\"부산<b>파이썬<\\/b>학원, 도전한 후기!\",\n",
      "\t\t\t\"link\":\"https:\\/\\/blog.naver.com\\/wldnek03\\/223479755700\",\n",
      "\t\t\t\"description\":\"[부산<b>파이썬<\\/b>학원] 기본 이론부터 실전까지! 문과를 전공했지만, 지난 몇 년 사이에 취업의 문이 극도로... 부산<b>파이썬<\\/b>학원에 다니면서 자격증도 따고, 코딩을 배워서 앞으로 무엇을 할 것인지 어느 정도 가닥도... \",\n",
      "\t\t\t\"bloggername\":\"JOO\",\n",
      "\t\t\t\"bloggerlink\":\"blog.naver.com\\/wldnek03\",\n",
      "\t\t\t\"postdate\":\"20240614\"\n",
      "\t\t},\n",
      "\t\t{\n",
      "\t\t\t\"title\":\"<b>파이썬<\\/b>전문가 자격증 종류 및 시험정보 모음\",\n",
      "\t\t\t\"link\":\"https:\\/\\/blog.naver.com\\/magicbox35\\/223532134868\",\n",
      "\t\t\t\"description\":\"<b>파이썬<\\/b>전문가 자격증 종류 및 시험정보 모음 1인 1컴퓨터의 시대를 지나 이젠 1인 2컴퓨터의 시대를... 오늘은 보다 전문적인 <b>파이썬<\\/b>전문가 자격에 대해 소개할까 합니다. 자격증 종류 및 시험정보도 모음으로... \",\n",
      "\t\t\t\"bloggername\":\"미래를 설계하는 재훈님의 블로그\",\n",
      "\t\t\t\"bloggerlink\":\"blog.naver.com\\/magicbox35\",\n",
      "\t\t\t\"postdate\":\"20240801\"\n",
      "\t\t},\n",
      "\t\t{\n",
      "\t\t\t\"title\":\"<b>파이썬<\\/b>전문가 자격증 종류 체계적인 취득방법\",\n",
      "\t\t\t\"link\":\"https:\\/\\/blog.naver.com\\/colabovlog\\/223532391042\",\n",
      "\t\t\t\"description\":\"<b>파이썬<\\/b>전문가 자격증 종류 체계적인 취득방법 반갑습니다. 이번 시간에 알려드릴 내용은 <b>파이썬<\\/b>전문가 자격증입니다! <b>파이썬<\\/b>에 대해 알고 계시거나 관심 있으신 분들이 들어오셨을 거라 생각합니다. 컴퓨터... \",\n",
      "\t\t\t\"bloggername\":\"콜라보리누나\",\n",
      "\t\t\t\"bloggerlink\":\"blog.naver.com\\/colabovlog\",\n",
      "\t\t\t\"postdate\":\"20240801\"\n",
      "\t\t},\n",
      "\t\t{\n",
      "\t\t\t\"title\":\"<b>파이썬<\\/b>전문가 자격증 전문가 과정 학습\",\n",
      "\t\t\t\"link\":\"https:\\/\\/blog.naver.com\\/rudolph77\\/223532016252\",\n",
      "\t\t\t\"description\":\"<b>파이썬<\\/b>전문가 자격증 전문가 과정 학습 안녕하세요. 오늘은 <b>파이썬<\\/b>전문가 자격증에 대해서 알아보겠습니다. 다들 자바칩이나 <b>파이썬<\\/b> 등 IT 관련 용어는 많이 들어보셨을 거라고 생각해요. 저도 학교에서... \",\n",
      "\t\t\t\"bloggername\":\"rudolfio\",\n",
      "\t\t\t\"bloggerlink\":\"blog.naver.com\\/rudolph77\",\n",
      "\t\t\t\"postdate\":\"20240801\"\n",
      "\t\t},\n",
      "\t\t{\n",
      "\t\t\t\"title\":\"<b>파이썬<\\/b>으로 주가지수 관심종목을 한 번에 자동으로... \",\n",
      "\t\t\t\"link\":\"https:\\/\\/blog.naver.com\\/sunflomoney\\/223523091515\",\n",
      "\t\t\t\"description\":\"그런데 <b>파이썬<\\/b>을 이용하면 매일 아침 자동으로 내가 원하는 지표의 종가나 환율을 내 개인 메일 또는 업무 메일로 한 눈에 확인할 수 있다. 바로 아래의 예시처럼 말이다. <b>파이썬<\\/b>을 이용해서 관심종목 한 방에... \",\n",
      "\t\t\t\"bloggername\":\"재테크하는 썬바라미\",\n",
      "\t\t\t\"bloggerlink\":\"blog.naver.com\\/sunflomoney\",\n",
      "\t\t\t\"postdate\":\"20240723\"\n",
      "\t\t},\n",
      "\t\t{\n",
      "\t\t\t\"title\":\"&lt;부산<b>파이썬<\\/b>학원&gt; 실무 위주 자격증 수업!\",\n",
      "\t\t\t\"link\":\"https:\\/\\/blog.naver.com\\/dnjswlgh928\\/223483720634\",\n",
      "\t\t\t\"description\":\"부산<b>파이썬<\\/b>학원에 등록했습니다. 체계적인 커리큘럼 학원을 고를 때는 커리큘럼 구성이 탄탄하고... 며칠 동안 검색하고 주변에 수소문한 끝에 이러한 조건에 딱 맞는 부산<b>파이썬<\\/b>학원을 찾아냈어요. 그래서... \",\n",
      "\t\t\t\"bloggername\":\"Twinkle Yebin House\",\n",
      "\t\t\t\"bloggerlink\":\"blog.naver.com\\/dnjswlgh928\",\n",
      "\t\t\t\"postdate\":\"20240618\"\n",
      "\t\t},\n",
      "\t\t{\n",
      "\t\t\t\"title\":\"<b>파이썬<\\/b>전문가 자격증 종류 상세한 취득방법!\",\n",
      "\t\t\t\"link\":\"https:\\/\\/blog.naver.com\\/iclick62\\/223561717401\",\n",
      "\t\t\t\"description\":\"#<b>파이썬<\\/b>자격증 <b>파이썬<\\/b>전문가 자격증 종류 상세한 취득방법! 안녕하세요! IT의 밝은 전망에 따라 해당 직종에 관심을 가지는 분들이 많을 텐데요! 다만, 비전공자의 입장에서 공부를 시작하려 해도 Python, C, JAVA... \",\n",
      "\t\t\t\"bloggername\":\"연리지(連理枝)\",\n",
      "\t\t\t\"bloggerlink\":\"blog.naver.com\\/iclick62\",\n",
      "\t\t\t\"postdate\":\"20240826\"\n",
      "\t\t}\n",
      "\t]\n",
      "}\n"
     ]
    }
   ],
   "source": [
    "print(response.read().decode('utf-8'))"
   ]
  },
  {
   "cell_type": "code",
   "execution_count": 3,
   "metadata": {},
   "outputs": [
    {
     "name": "stdout",
     "output_type": "stream",
     "text": [
      "{\n",
      "\t\"lastBuildDate\":\"Thu, 29 Aug 2024 10:35:50 +0900\",\n",
      "\t\"total\":1031,\n",
      "\t\"start\":1,\n",
      "\t\"display\":10,\n",
      "\t\"items\":[\n",
      "\t\t{\n",
      "\t\t\t\"title\":\"엑셀X파이썬 (엑셀이 파이썬을 품었다)\",\n",
      "\t\t\t\"link\":\"https:\\/\\/search.shopping.naver.com\\/book\\/catalog\\/49255941621\",\n",
      "\t\t\t\"image\":\"https:\\/\\/shopping-phinf.pstatic.net\\/main_4925594\\/49255941621.20240720092116.jpg\",\n",
      "\t\t\t\"author\":\"정성일\",\n",
      "\t\t\t\"discount\":\"22500\",\n",
      "\t\t\t\"publisher\":\"길벗\",\n",
      "\t\t\t\"pubdate\":\"20240730\",\n",
      "\t\t\t\"isbn\":\"9791140710195\",\n",
      "\t\t\t\"description\":\"엑셀이 파이썬을 품었다\\n\\nMS 365 엑셀에 파이썬을 통합하는 강력한 기능이 업데이트되었다. 이제 엑셀의 셀에 ‘=PY’ 함수를 입력하면 파이썬 코드를 직접 실행할 수 있다. 별도의 라이브러리 설치 없이 복잡한 차트 생성과 데이터 분석을 엑셀에서 손쉽게 수행할 수 있다. 이 책은 엑셀에서 파이썬을 사용하는 기본적인 방법부터 다양한 파이썬 라이브러리를 활용하여 주식 시세 분석, 알고리즘 구현 등 주요 데이터 분석 및 시각화 라이브러리를 제대로 활용하는 방법을 소개한다. 엑셀과 파이썬의 조합으로 빅데이터 시대에 걸맞는 데이터 분석 경쟁력을 한층 더 강화할 수 있을 것이다.\\n\\n엑셀에서 파이썬을!\\n파이썬 코드를 엑셀 함수처럼!\\n\\n엑셀이 파이썬을 품었다. MS 365 엑셀의 업데이트로 엑셀 시트에서 직접 데이터를 선택하여 셀에 파이썬 코드를 입력하면 결과를 바로 확인할 수 있습니다. 이제 엑셀에서 파이썬을 엑셀 함수처럼 사용해 보세요. 라이브러리를 추가로 설치하거나 충돌을 걱정할 필요도 없습니다. 엑셀 파이썬을 활용하면 주식 시세 데이터를 이동 평균선 등으로 시각화하거나 데이터 분석 알고리즘을 사용해 가상 매매 프로그램을 만들어 수익률을 검증하고 투자 전략을 보완할 수 있습니다. 의사결정나무, 이상 탐지 등 검증된 파이썬 라이브러리로 알고리즘을 간단하게 구현할 수 있습니다.\"\n",
      "\t\t},\n",
      "\t\t{\n",
      "\t\t\t\"title\":\"파이썬 시계열 예측 분석 (통계 모델, 딥러닝, 파이썬 라이브러리를 활용한 대규모 시계열 데이터 분석)\",\n",
      "\t\t\t\"link\":\"https:\\/\\/search.shopping.naver.com\\/book\\/catalog\\/49076204619\",\n",
      "\t\t\t\"image\":\"https:\\/\\/shopping-phinf.pstatic.net\\/main_4907620\\/49076204619.20240712093712.jpg\",\n",
      "\t\t\t\"author\":\"Peixeiro, Marco\",\n",
      "\t\t\t\"discount\":\"34200\",\n",
      "\t\t\t\"publisher\":\"제이펍\",\n",
      "\t\t\t\"pubdate\":\"20240715\",\n",
      "\t\t\t\"isbn\":\"9791193926314\",\n",
      "\t\t\t\"description\":\"현장 실무 예제로 배우는 시계열 분석과 응용\\n\\n데이터 과학에서 시간에 따른 변화 패턴을 분석하여 다양한 예측 모델을 구축하면, 미래 예측은 물론 다양한 의사결정에 도움이 된다. 이 책에서는 파이썬 코드로 완벽하게 작동하는 시계열 예측 방법을 소개한다. 시계열 데이터를 정의하고, 베이스라인 모델을 개발하고, 통계적 모델과 텐서플로 및 최신 딥러닝 도구를 사용하여 대규모 모델 구축 방법을 학습하고, 자동화된 예측 라이브러리까지 다룬다. 구글 주가 동향, 항당뇨제 처방량 예측, 가정의 전력 소비량 예측 등 다양한 실무 사례로 시계열 예측 분석을 마스터하자.\"\n",
      "\t\t},\n",
      "\t\t{\n",
      "\t\t\t\"title\":\"혼자 공부하는 파이썬 (1:1 과외하듯 배우는 프로그래밍 자습서)\",\n",
      "\t\t\t\"link\":\"https:\\/\\/search.shopping.naver.com\\/book\\/catalog\\/32507605957\",\n",
      "\t\t\t\"image\":\"https:\\/\\/shopping-phinf.pstatic.net\\/main_3250760\\/32507605957.20230509170119.jpg\",\n",
      "\t\t\t\"author\":\"윤인성\",\n",
      "\t\t\t\"discount\":\"19800\",\n",
      "\t\t\t\"publisher\":\"한빛미디어\",\n",
      "\t\t\t\"pubdate\":\"20220601\",\n",
      "\t\t\t\"isbn\":\"9791162245651\",\n",
      "\t\t\t\"description\":\"혼자 해도 충분하다! 1:1 과외하듯 배우는 파이썬 프로그래밍 자습서\\n\\n『혼자 공부하는 파이썬』이 더욱 흥미있고 알찬 내용으로 개정되었습니다. 프로그래밍이 정말 처음인 입문자도 따라갈 수 있는 친절한 설명과 단계별 학습은 그대로! 혼자 공부하더라도 체계적으로 계획을 세워 학습할 수 있도록 ‘혼공 계획표’를 새롭게 추가했습니다. 또한 입문자가 자주 물어보는 질문과 오류 해결 방법을 적재적소에 배치하여 예상치 못한 문제에 부딪혀도 좌절하지 않고 끝까지 완독할 수 있도록 도와줍니다. 단순한 문법 암기와 코딩 따라하기에 지쳤다면, 새로운 혼공파와 함께 ‘누적 예제’와 ‘도전 문제’로 프로그래밍의 신세계를 경험해 보세요! 배운 내용을 씹고 뜯고 맛보고 즐기다 보면 응용력은 물론 알고리즘 사고력까지 키워 코딩 실력이 쑥쑥 성장할 것입니다.\\n\\n이 책은 독학으로 파이썬을 배우는 입문자가 ‘꼭 필요한 내용을 제대로 학습’할 수 있도록 구성했습니다. 뭘 모르는지조차 모르는 입문자의 막연한 마음에 십분 공감하여 과외 선생님이 알려주듯 친절하게, 핵심적인 내용만 콕콕 집어줍니다. 책의 첫 페이지를 펼쳐서 마지막 페이지를 덮을 때까지, 혼자서도 충분히 파이썬을 배울 수 있다는 자신감과 확신이 계속될 것입니다!\\n\\n베타리더와 함께 입문자에게 맞는 난이도, 분량, 학습 요소 등을 적극 반영했습니다. 어려운 용어와 개념은 한 번 더 풀어쓰고, 복잡한 설명은 눈에 잘 들어오는 그림으로 풀어냈습니다. ‘혼자 공부해 본’ 여러 입문자의 초심과 눈높이가 책 곳곳에 반영된 것이 이 책의 가장 큰 장점입니다.\"\n",
      "\t\t},\n",
      "\t\t{\n",
      "\t\t\t\"title\":\"Do it! 점프 투 파이썬 (중학생도 첫날부터 실습하는 초고속 입문서)\",\n",
      "\t\t\t\"link\":\"https:\\/\\/search.shopping.naver.com\\/book\\/catalog\\/40354085633\",\n",
      "\t\t\t\"image\":\"https:\\/\\/shopping-phinf.pstatic.net\\/main_4035408\\/40354085633.20230927071024.jpg\",\n",
      "\t\t\t\"author\":\"박응용\",\n",
      "\t\t\t\"discount\":\"19800\",\n",
      "\t\t\t\"publisher\":\"이지스퍼블리싱\",\n",
      "\t\t\t\"pubdate\":\"20230615\",\n",
      "\t\t\t\"isbn\":\"9791163034735\",\n",
      "\t\t\t\"description\":\"프로그래밍 분야 8년 연속 베스트셀러!\\n《Do it! 점프 투 파이썬》 전면 개정 2판 출시!\\n\\n중고등학생도, 비전공자도, 직장인도 프로그래밍에 눈뜨게 만든 바로 그 책이 전면 개정 2판으로 새롭게 태어났다! 챗GPT를 시작으로 펼쳐진 생성 AI 시대에 맞춰 설명과 예제를 다듬고, 최신 경향과 심화 내용을 보충했다. 또한 이번 개정 2판도 50만 코딩 유튜버인 조코딩과 협업을 통해 유튜브 동영상을 제공해 파이썬을 더 쉽게 공부할 수 있다.\\n\\n8년 연속 베스트셀러! 위키독스 누적 방문 300만! 독자의 입에서 입으로 전해진 추천과 수많은 대학 및 학원의 교재 채택을 통해 검증은 이미 끝났다. 코딩을 처음 배우는 중고등학생부터 코딩 소양을 기르려는 비전공자, 자기계발에 진심인 직장인까지! 이 책과 함께 파이썬 프로그래밍의 세계로 ‘점프’해 보자!\"\n",
      "\t\t},\n",
      "\t\t{\n",
      "\t\t\t\"title\":\"비전공자를 위한 이해할 수 있는 파이썬 (AI 시대에 최적화된 파이썬 공부법)\",\n",
      "\t\t\t\"link\":\"https:\\/\\/search.shopping.naver.com\\/book\\/catalog\\/48509442618\",\n",
      "\t\t\t\"image\":\"https:\\/\\/shopping-phinf.pstatic.net\\/main_4850944\\/48509442618.20240618091504.jpg\",\n",
      "\t\t\t\"author\":\"최원영\",\n",
      "\t\t\t\"discount\":\"22320\",\n",
      "\t\t\t\"publisher\":\"티더블유아이지\",\n",
      "\t\t\t\"pubdate\":\"20240624\",\n",
      "\t\t\t\"isbn\":\"9791191590265\",\n",
      "\t\t\t\"description\":\"\\\"ChatGPT 시대! 파이썬 공부법도 달라져야 합니다!\\\"\\n\\n미국인에게 일을 시키려면 영어라는 언어를 사용해야 하듯이, 컴퓨터에게 일을 시키려면 C언어나 자바(JAVA)와 같은 프로그래밍 언어를 사용해야 합니다. 그리고 여러 프로그래밍 언어 중 가장 배우기가 쉽고, 활용도가 높은 언어가 바로 파이썬입니다. \\n파이썬을 배우면 매일 반복되는 업무를 자동화할 수 있습니다. 10시간이 걸리는 일도 단 1분 만에 해낼 수 있죠. 수작업으로 해야 하는 일을 컴퓨터가 대신해주니 생산성이 크게 올라갈 수밖에 없습니다. 그러나 파이썬이 쉬운 언어라 해도 업무를 자동화하는 수준으로 배우는 건 결코 쉽지 않은 일입니다. 지식을 배우는 것과 그것을 활용하는 건 또 다른 문제니까요. 다행히 ChatGPT로 대변되는 생성형 AI의 등장으로 파이썬의 활용이 좀 더 쉬워졌습니다. 이제는 기초 지식만 있는 사용자도 생성형 AI의 도움을 받아 코드를 손쉽게 완성할 수 있습니다.\\n중요한 건, 기초 지식은 고정된 것이 아니라 시대의 변화에 따라 달라진다는 것입니다. 컴퓨터를 예로 들어보죠. 윈도우(Windows)와 같은 운영체제가 없던 시기에는 하드웨어의 작동 원리를 알아야 컴퓨터를 사용할 수 있었습니다. 그때는 그것이 기초 지식이었습니다. 하지만 지금은 파워포인트(PowerPoint)나 엑셀(Excel)과 같은 프로그램을 능숙하게 다루는 능력이 기초 지식에 가깝습니다. 파이썬도 마찬가지입니다. 생성형 AI의 등장으로 파이썬을 활용하기 위한 기초 지식이 빠르게 바뀌고 있습니다. 이는 곧 파이썬을 공부하는 방법 역시 달라져야 함을 의미합니다.\\n《비전공자를 위한 이해할 수 있는 파이썬》에는 생성형 AI 시대에 최적화된 파이썬 공부법이 담겨 있습니다. 생성형 AI를 잘 활용하기 위해 꼭 필요한 기초 지식뿐 아니라 생성형 AI의 도움을 받아 직접 코드를 작성해봄으로써 자연스럽게 파이썬 활용 능력이 배양되도록 내용을 구성했습니다. 이 책이 파이썬을 공부하는 모든 분들에게 많은 도움이 될 수 있기를 바랍니다.\"\n",
      "\t\t},\n",
      "\t\t{\n",
      "\t\t\t\"title\":\"파이썬\",\n",
      "\t\t\t\"link\":\"https:\\/\\/search.shopping.naver.com\\/book\\/catalog\\/32438172833\",\n",
      "\t\t\t\"image\":\"https:\\/\\/shopping-phinf.pstatic.net\\/main_3243817\\/32438172833.20230920072917.jpg\",\n",
      "\t\t\t\"author\":\"김영천\",\n",
      "\t\t\t\"discount\":\"23500\",\n",
      "\t\t\t\"publisher\":\"기한재\",\n",
      "\t\t\t\"pubdate\":\"20200225\",\n",
      "\t\t\t\"isbn\":\"9788970187990\",\n",
      "\t\t\t\"description\":\"▶ 이 책은 Python(파이썬)을 다룬 이론서입니다. Python(파이썬)의 기초적이고 전반적인 내용을 학습할 수 있습니다.\"\n",
      "\t\t},\n",
      "\t\t{\n",
      "\t\t\t\"title\":\"CODING BASICS PYTHON (파이썬)\",\n",
      "\t\t\t\"link\":\"https:\\/\\/search.shopping.naver.com\\/book\\/catalog\\/32440944646\",\n",
      "\t\t\t\"image\":\"https:\\/\\/shopping-phinf.pstatic.net\\/main_3244094\\/32440944646.20230509164030.jpg\",\n",
      "\t\t\t\"author\":\"김상민^장성식^김일태\",\n",
      "\t\t\t\"discount\":\"18000\",\n",
      "\t\t\t\"publisher\":\"렉스미디어닷넷\",\n",
      "\t\t\t\"pubdate\":\"20220210\",\n",
      "\t\t\t\"isbn\":\"9788959604210\",\n",
      "\t\t\t\"description\":\"파이썬으로 다지는 프로그래밍의 기초\\n\\nㆍ 다양한 예제를 활용하여 초보자도 쉽게 프로그래밍의 기본을 익힐 수 있는 파이썬 입문서입니다.\\nㆍ 문법을 사전식으로 나열하지 않고 기능적인 프로그램을 하나씩 완성하면서 익힐 수 있게 구성했습니다.\\nㆍ 단계별로 완성하는 장별 예제 및 연습문제를 바탕으로 자신만의 프로그램을 완성할 수 있습니다.\"\n",
      "\t\t},\n",
      "\t\t{\n",
      "\t\t\t\"title\":\"파이썬 + AI (코드조각과 실행화면으로 배우는 코딩)\",\n",
      "\t\t\t\"link\":\"https:\\/\\/search.shopping.naver.com\\/book\\/catalog\\/48703888619\",\n",
      "\t\t\t\"image\":\"https:\\/\\/shopping-phinf.pstatic.net\\/main_4870388\\/48703888619.20240627091044.jpg\",\n",
      "\t\t\t\"author\":\"안용제^김남규\",\n",
      "\t\t\t\"discount\":\"25200\",\n",
      "\t\t\t\"publisher\":\"디지털북스\",\n",
      "\t\t\t\"pubdate\":\"20240715\",\n",
      "\t\t\t\"isbn\":\"9788960884571\",\n",
      "\t\t\t\"description\":\"“코드조각과 실행화면을 통해, 단계적 반복을 통해 배우는 파이썬과 AI”\\n\\n이 책은 프로그래밍 언어에 익숙한 프로그래머가 아닌 프로그램 입문자들을 대상으로 프로그래밍에 대해 아무런 지식이 없다고 가정하고 프로그램 코딩을 가르치기 위해 작성되었습니다. 이 책을 통해 코딩 개요, Python 기초, numpy, matplotlib, pandas 그리고 머신러닝\\/딥러닝 퀵스타트 등 Python의 전반을 한 권으로 학습할 수 있습니다.\\n또한 코드조각이라고 부르는 프로그램 코딩에 대한 예제를 설명을 위한 주축으로 사용합니다. 그래서 코드조각을 먼저 이해하려고 노력한 후 코드조각을 실행하여 얻게 되는 실행화면을 통해, 코딩의 결과를 바로바로 확인할 수 있도록 하였습니다. 코드조각을 컴퓨터에 입력하여 실행시켜 보면서 프로그램의 수행 결과를 자세히 관찰하고, 프로그램 코드를 한 줄씩 따라가면서 변수와 객체 등 컴퓨터 저장 공간의 변화를 함께 따라가 보면 어느새 파이썬과 AI 코딩을 능숙하게 활용할 수 있을 것입니다.\"\n",
      "\t\t},\n",
      "\t\t{\n",
      "\t\t\t\"title\":\"파이썬\",\n",
      "\t\t\t\"link\":\"https:\\/\\/search.shopping.naver.com\\/book\\/catalog\\/32489150082\",\n",
      "\t\t\t\"image\":\"https:\\/\\/shopping-phinf.pstatic.net\\/main_3248915\\/32489150082.20230207165503.jpg\",\n",
      "\t\t\t\"author\":\"천인국\",\n",
      "\t\t\t\"discount\":\"11640\",\n",
      "\t\t\t\"publisher\":\"인피니티북스\",\n",
      "\t\t\t\"pubdate\":\"20170830\",\n",
      "\t\t\t\"isbn\":\"9791185578330\",\n",
      "\t\t\t\"description\":\"컴퓨팅 사고(Computational Thinking)는 자넷 윙 교수가 2006년에 컴퓨터 학술지에서 언급한 이후로 컴퓨터 교육 분야에서 상당한 이슈가 되고 있는 용어이다. 컴퓨팅 사고는 복잡한 문제를 분해하여 문제 안에 내재된 패턴을 찾고 추상화 단계를 거쳐서 문제를 해결하는 알고리즘을 작성하는 과정이다. 작성된 알고리즘은 사람이 수행하거나 컴퓨터를 이용하여 자동화될 수 있다. \\n이 책은 컴퓨팅 사고와 파이썬을 동시에 학습할 수 있도록 기획되었다. 파이썬은 컴퓨터를 전공하지 않은 학생들도 쉽게 사용할 수 있다는 큰 장점이 있다. 컴퓨팅 사고는 흥미로운 실습 예제가 많이 필요하다. 이 책에서는 최대한 많은 실습 예제를 간추려서 파이썬으로 실습할 수 있도록 하였다. 파이썬은 다양한 애니메이션이나 가상 실습을 만들 수 있는 최적의 도구이다. 학생들은 파이썬을 통하여 컴퓨터 프로그래밍의 기본적인 개념들과 컴퓨팅 사고에서 나타나는 다양한 실습을 수행할 수 있을 것이다.\"\n",
      "\t\t},\n",
      "\t\t{\n",
      "\t\t\t\"title\":\"파이썬 (비전공자를위한 파이썬 기초 입문서)\",\n",
      "\t\t\t\"link\":\"https:\\/\\/search.shopping.naver.com\\/book\\/catalog\\/32436003648\",\n",
      "\t\t\t\"image\":\"https:\\/\\/shopping-phinf.pstatic.net\\/main_3243600\\/32436003648.20230920072841.jpg\",\n",
      "\t\t\t\"author\":\"김명호\",\n",
      "\t\t\t\"discount\":\"16200\",\n",
      "\t\t\t\"publisher\":\"에듀웨이\",\n",
      "\t\t\t\"pubdate\":\"20190525\",\n",
      "\t\t\t\"isbn\":\"9791186179369\",\n",
      "\t\t\t\"description\":\"막막했던 파이썬, 이제 한 권으로 기초를 배우는\\n파이썬 사용 설명서!\\n\\n전 세계적으로 유명한 구글(Google)이 자신의 많은 서비스를 파이썬으로 제공하고 있습니다. 이것은 구글의 뛰어난 서비스를 개인의 비즈니스에 쉽게 이용할 수 있다는 의미입니다.  이러한 발전에 맞춰 파이썬 문법의 기초를 쉽게 이해할 수 있도록 이 책에서는 친절한 도해와 함께 코딩 개념을 설명합니다. 파이썬을 처음 배우는 학생부터 비전공자, 코딩 실력을 높이려는 직장인까지 기본 문법부터 예제를 통한 활용 실력을 높여 파이썬 프로그래밍을 마스터할 수 있습니다. 가장 쉽고, 빠르게, 효율적인 파이썬 사용 설명서! ‘한 권으로 끝내는 파이썬’에서 찾아보세요.\"\n",
      "\t\t}\n",
      "\t]\n",
      "}\n"
     ]
    }
   ],
   "source": [
    "encText = urllib.parse.quote('파이썬')\n",
    "url = 'https://openapi.naver.com/v1/search/book?query=' + encText\n",
    "\n",
    "request = Request(url)\n",
    "request.add_header('X-Naver-Client-Id', client_id)\n",
    "request.add_header('X-Naver-Client-Secret', client_secret)\n",
    "\n",
    "response = urlopen(request)\n",
    "print(response.read().decode('utf-8'))"
   ]
  },
  {
   "cell_type": "code",
   "execution_count": 4,
   "metadata": {},
   "outputs": [
    {
     "name": "stdout",
     "output_type": "stream",
     "text": [
      "{\n",
      "\t\"lastBuildDate\":\"Thu, 29 Aug 2024 10:38:11 +0900\",\n",
      "\t\"total\":193592,\n",
      "\t\"start\":1,\n",
      "\t\"display\":10,\n",
      "\t\"items\":[\n",
      "\t\t{\n",
      "\t\t\t\"title\":\"맥용 <b>파이썬<\\/b> 개발 프로그램, Thonny\",\n",
      "\t\t\t\"link\":\"http:\\/\\/cafe.naver.com\\/inmacbook\\/2709730\",\n",
      "\t\t\t\"description\":\"- 우크라이나에서 만든 <b>파이썬<\\/b> 전용 개발도구 (메뉴 끝에 우크라 국기 보이죠?) - 편집기능은 물론 컴파일 기능도 있구요 ... 실행은 초록색 버튼입니다. 이걸로 왼만큼 복잡한 <b>파이썬<\\/b> 코드도 다 돌려볼수 있습니다.... \",\n",
      "\t\t\t\"cafename\":\"맥 쓰는 사람들 [맥북, 아이맥, 맥 스...\",\n",
      "\t\t\t\"cafeurl\":\"https:\\/\\/cafe.naver.com\\/inmacbook\"\n",
      "\t\t},\n",
      "\t\t{\n",
      "\t\t\t\"title\":\"<b>파이썬<\\/b> 국비지원 받고 취업 준비하자!\",\n",
      "\t\t\t\"link\":\"http:\\/\\/cafe.naver.com\\/medicalpeetnet\\/425175\",\n",
      "\t\t\t\"description\":\"*이 글은 의편사 운영진의 허가를 얻어 작성된 글입니다* <b>파이썬<\\/b> 국비지원 받고 취업 준비하자! 최근에는... 중에서 <b>파이썬<\\/b>에 대해서 알려드릴 에정이니 <b>파이썬<\\/b> 국비지원을 받아서 준비해보고 싶으신 분들은 오늘 글... \",\n",
      "\t\t\t\"cafename\":\"의편사(의대편입. 약대편입. 치대. 수...\",\n",
      "\t\t\t\"cafeurl\":\"https:\\/\\/cafe.naver.com\\/medicalpeetnet\"\n",
      "\t\t},\n",
      "\t\t{\n",
      "\t\t\t\"title\":\"파이스토어 <b>파이썬<\\/b> 생태계를 확장하는 도구\",\n",
      "\t\t\t\"link\":\"http:\\/\\/cafe.naver.com\\/goalkeeps\\/89902\",\n",
      "\t\t\t\"description\":\"파이스토어 <b>파이썬<\\/b> 생태계를 확장하는 도구 안녕하세요! 파이스토어 <b>파이썬<\\/b> 생태계를 확장하는 도구에 대해 궁금하신 분들을 위해 이야기해볼까요? 함께 즐거운 시간 보내요! :) 파이스토어 <b>파이썬<\\/b> 생태계를 확장하는... \",\n",
      "\t\t\t\"cafename\":\"주담피아[주택담보대출\\/아파트담보대출...\",\n",
      "\t\t\t\"cafeurl\":\"https:\\/\\/cafe.naver.com\\/goalkeeps\"\n",
      "\t\t},\n",
      "\t\t{\n",
      "\t\t\t\"title\":\"매직미러와 <b>파이썬<\\/b> 코드를 리부팅하면 자동으로 실행하고 싶습니다.\",\n",
      "\t\t\t\"link\":\"http:\\/\\/cafe.naver.com\\/raspigamer\\/57240\",\n",
      "\t\t\t\"description\":\"매직미러..와 동작감지 <b>파이썬<\\/b> 코드를... 부팅하면 자동으로 실행하고 싶습니다. 인터넷에 여기저기... 그리고 <b>파이썬<\\/b> 코드도 리부팅되면 실행해줘야 하는데.. 어떻게 하면 될까요? <b>파이썬<\\/b> 코드는 아래와 같습니다.... \",\n",
      "\t\t\t\"cafename\":\"라즈겜동\",\n",
      "\t\t\t\"cafeurl\":\"https:\\/\\/cafe.naver.com\\/raspigamer\"\n",
      "\t\t},\n",
      "\t\t{\n",
      "\t\t\t\"title\":\"<b>파이썬<\\/b> 공부해보려는데요\",\n",
      "\t\t\t\"link\":\"http:\\/\\/cafe.naver.com\\/openrt\\/30534\",\n",
      "\t\t\t\"description\":\"<b>파이썬<\\/b>을 <b>파이썬<\\/b>코딩도장 책과 유튜브로 공부해본후 ros를 해볼까하는데 하는게 도움이 될까요? <b>파이썬<\\/b>이 3.13까지 나왔던데 3.11책 사서 공부해도 가능할까요?\",\n",
      "\t\t\t\"cafename\":\"오픈소스 소프트웨어 & 하드웨어: 로봇...\",\n",
      "\t\t\t\"cafeurl\":\"https:\\/\\/cafe.naver.com\\/openrt\"\n",
      "\t\t},\n",
      "\t\t{\n",
      "\t\t\t\"title\":\"태안 컴퓨터학원 코딩과외 컴활 엑셀 <b>파이썬<\\/b> 고등정보과목\",\n",
      "\t\t\t\"link\":\"http:\\/\\/cafe.naver.com\\/s7942\\/421365\",\n",
      "\t\t\t\"description\":\"태안 컴퓨터학원 코딩과외 컴활 엑셀 <b>파이썬<\\/b> 고등정보과목 태안코딩과외 태안컴퓨터학원 태안컴활 태안엑셀 태안<b>파이썬<\\/b> 태안고등정보과목 태안코딩학원 태안컴퓨터과외 태안컴활배우기 태안엑셀과외... \",\n",
      "\t\t\t\"cafename\":\"천아장사ㅣ천안과 아산의 부동산전문카...\",\n",
      "\t\t\t\"cafeurl\":\"https:\\/\\/cafe.naver.com\\/s7942\"\n",
      "\t\t},\n",
      "\t\t{\n",
      "\t\t\t\"title\":\"다른 <b>파이썬<\\/b> 실기 시험 질문\",\n",
      "\t\t\t\"link\":\"http:\\/\\/cafe.naver.com\\/sqlpd\\/81521\",\n",
      "\t\t\t\"description\":\"cos pro2급 <b>파이썬<\\/b> 2. AICE(kt에서 만든 실기 자격증)AICE 3. <b>파이썬<\\/b> 마스터 2급(KAIT 자격검정 (ihd.or.kr) 이렇게 3개 찾아봤는데, <b>파이썬<\\/b> 코딩 짜는건 학교에서 수업은 들었지만 혼자서 잘 못짜서 자격증을 통해서 기초를... \",\n",
      "\t\t\t\"cafename\":\"데이터 전문가 포럼 (빅데이터분석기사...\",\n",
      "\t\t\t\"cafeurl\":\"https:\\/\\/cafe.naver.com\\/sqlpd\"\n",
      "\t\t},\n",
      "\t\t{\n",
      "\t\t\t\"title\":\"청양 컴퓨터학원 코딩과외 컴활 엑셀 <b>파이썬<\\/b> 고등정보과목\",\n",
      "\t\t\t\"link\":\"http:\\/\\/cafe.naver.com\\/s7942\\/421357\",\n",
      "\t\t\t\"description\":\"청양 컴퓨터학원 코딩과외 컴활 엑셀 <b>파이썬<\\/b> 고등정보과목 청양코딩과외 청양컴퓨터학원 청양컴활 청양엑셀 청양<b>파이썬<\\/b> 청양고등정보과목 청양코딩학원 청양컴퓨터과외 청양컴활배우기 청양엑셀과외... \",\n",
      "\t\t\t\"cafename\":\"천아장사ㅣ천안과 아산의 부동산전문카...\",\n",
      "\t\t\t\"cafeurl\":\"https:\\/\\/cafe.naver.com\\/s7942\"\n",
      "\t\t},\n",
      "\t\t{\n",
      "\t\t\t\"title\":\"홍성 컴퓨터학원 코딩과외 컴활 엑셀 <b>파이썬<\\/b> 고등정보과목\",\n",
      "\t\t\t\"link\":\"http:\\/\\/cafe.naver.com\\/s7942\\/421358\",\n",
      "\t\t\t\"description\":\"홍성 컴퓨터학원 코딩과외 컴활 엑셀 <b>파이썬<\\/b> 고등정보과목 홍성코딩과외 홍성컴퓨터학원 홍성컴활 홍성엑셀 홍성<b>파이썬<\\/b> 홍성고등정보과목 홍성코딩학원 홍성컴퓨터과외 홍성컴활배우기 홍성엑셀과외... \",\n",
      "\t\t\t\"cafename\":\"천아장사ㅣ천안과 아산의 부동산전문카...\",\n",
      "\t\t\t\"cafeurl\":\"https:\\/\\/cafe.naver.com\\/s7942\"\n",
      "\t\t},\n",
      "\t\t{\n",
      "\t\t\t\"title\":\"예산 컴퓨터학원 코딩과외 컴활 엑셀 <b>파이썬<\\/b> 고등정보과목\",\n",
      "\t\t\t\"link\":\"http:\\/\\/cafe.naver.com\\/s7942\\/421360\",\n",
      "\t\t\t\"description\":\"예산 컴퓨터학원 코딩과외 컴활 엑셀 <b>파이썬<\\/b> 고등정보과목 예산코딩과외 예산컴퓨터학원 예산컴활 예산엑셀 예산<b>파이썬<\\/b> 예산고등정보과목 예산코딩학원 예산컴퓨터과외 예산컴활배우기 예산엑셀과외... \",\n",
      "\t\t\t\"cafename\":\"천아장사ㅣ천안과 아산의 부동산전문카...\",\n",
      "\t\t\t\"cafeurl\":\"https:\\/\\/cafe.naver.com\\/s7942\"\n",
      "\t\t}\n",
      "\t]\n",
      "}\n"
     ]
    }
   ],
   "source": [
    "encText = urllib.parse.quote('파이썬')\n",
    "url = 'https://openapi.naver.com/v1/search/cafearticle?query=' + encText\n",
    "request = Request(url)\n",
    "request.add_header('X-Naver-Client-Id', client_id)\n",
    "request.add_header('X-Naver-Client-Secret', client_secret)\n",
    "\n",
    "response = urlopen(request)\n",
    "print(response.read().decode('utf-8'))"
   ]
  },
  {
   "cell_type": "code",
   "execution_count": 5,
   "metadata": {},
   "outputs": [
    {
     "name": "stdout",
     "output_type": "stream",
     "text": [
      "{\n",
      "\t\"lastBuildDate\":\"Thu, 29 Aug 2024 10:39:35 +0900\",\n",
      "\t\"total\":126625,\n",
      "\t\"start\":1,\n",
      "\t\"display\":10,\n",
      "\t\"items\":[\n",
      "\t\t{\n",
      "\t\t\t\"title\":\"길벗 코딩 자율학습 나도코딩의 <b>파이썬<\\/b> 입문\",\n",
      "\t\t\t\"link\":\"https:\\/\\/search.shopping.naver.com\\/catalog\\/49987041580\",\n",
      "\t\t\t\"image\":\"https:\\/\\/shopping-phinf.pstatic.net\\/main_4998704\\/49987041580.20240827145526.jpg\",\n",
      "\t\t\t\"lprice\":\"21380\",\n",
      "\t\t\t\"hprice\":\"\",\n",
      "\t\t\t\"mallName\":\"네이버\",\n",
      "\t\t\t\"productId\":\"49987041580\",\n",
      "\t\t\t\"productType\":\"1\",\n",
      "\t\t\t\"brand\":\"\",\n",
      "\t\t\t\"maker\":\"\",\n",
      "\t\t\t\"category1\":\"출산\\/육아\",\n",
      "\t\t\t\"category2\":\"완구\\/인형\",\n",
      "\t\t\t\"category3\":\"자연\\/과학완구\",\n",
      "\t\t\t\"category4\":\"기초로봇\"\n",
      "\t\t},\n",
      "\t\t{\n",
      "\t\t\t\"title\":\"초등학교 코딩수업 <b>파이썬<\\/b> 햄스터 로봇교재 인공지능 프로그래밍 과학\",\n",
      "\t\t\t\"link\":\"https:\\/\\/search.shopping.naver.com\\/catalog\\/45756543160\",\n",
      "\t\t\t\"image\":\"https:\\/\\/shopping-phinf.pstatic.net\\/main_4575654\\/45756543160.20240210185817.jpg\",\n",
      "\t\t\t\"lprice\":\"20260\",\n",
      "\t\t\t\"hprice\":\"\",\n",
      "\t\t\t\"mallName\":\"네이버\",\n",
      "\t\t\t\"productId\":\"45756543160\",\n",
      "\t\t\t\"productType\":\"1\",\n",
      "\t\t\t\"brand\":\"\",\n",
      "\t\t\t\"maker\":\"\",\n",
      "\t\t\t\"category1\":\"출산\\/육아\",\n",
      "\t\t\t\"category2\":\"완구\\/인형\",\n",
      "\t\t\t\"category3\":\"자연\\/과학완구\",\n",
      "\t\t\t\"category4\":\"기초로봇\"\n",
      "\t\t},\n",
      "\t\t{\n",
      "\t\t\t\"title\":\"다즐에듀 코딩로봇 엠봇2 조립형 - <b>파이썬<\\/b> 지원\",\n",
      "\t\t\t\"link\":\"https:\\/\\/search.shopping.naver.com\\/catalog\\/49878497708\",\n",
      "\t\t\t\"image\":\"https:\\/\\/shopping-phinf.pstatic.net\\/main_4987849\\/49878497708.20240820212636.jpg\",\n",
      "\t\t\t\"lprice\":\"425590\",\n",
      "\t\t\t\"hprice\":\"\",\n",
      "\t\t\t\"mallName\":\"네이버\",\n",
      "\t\t\t\"productId\":\"49878497708\",\n",
      "\t\t\t\"productType\":\"1\",\n",
      "\t\t\t\"brand\":\"다즐에듀\",\n",
      "\t\t\t\"maker\":\"\",\n",
      "\t\t\t\"category1\":\"출산\\/육아\",\n",
      "\t\t\t\"category2\":\"완구\\/인형\",\n",
      "\t\t\t\"category3\":\"자연\\/과학완구\",\n",
      "\t\t\t\"category4\":\"기초로봇\"\n",
      "\t\t},\n",
      "\t\t{\n",
      "\t\t\t\"title\":\"로봇팔 운반 카트 코딩 테스트 <b>파이썬<\\/b> 피킹 로봇\",\n",
      "\t\t\t\"link\":\"https:\\/\\/search.shopping.naver.com\\/catalog\\/46811345811\",\n",
      "\t\t\t\"image\":\"https:\\/\\/shopping-phinf.pstatic.net\\/main_4681134\\/46811345811.20240403071951.jpg\",\n",
      "\t\t\t\"lprice\":\"158800\",\n",
      "\t\t\t\"hprice\":\"\",\n",
      "\t\t\t\"mallName\":\"네이버\",\n",
      "\t\t\t\"productId\":\"46811345811\",\n",
      "\t\t\t\"productType\":\"1\",\n",
      "\t\t\t\"brand\":\"\",\n",
      "\t\t\t\"maker\":\"\",\n",
      "\t\t\t\"category1\":\"출산\\/육아\",\n",
      "\t\t\t\"category2\":\"완구\\/인형\",\n",
      "\t\t\t\"category3\":\"자연\\/과학완구\",\n",
      "\t\t\t\"category4\":\"기초로봇\"\n",
      "\t\t},\n",
      "\t\t{\n",
      "\t\t\t\"title\":\"<b>파이썬<\\/b> 피지컬 컴퓨팅 AI램프 코딩 과학 키트 과탐 STEAM교육\",\n",
      "\t\t\t\"link\":\"https:\\/\\/search.shopping.naver.com\\/catalog\\/49861966392\",\n",
      "\t\t\t\"image\":\"https:\\/\\/shopping-phinf.pstatic.net\\/main_4986196\\/49861966392.20240819213821.jpg\",\n",
      "\t\t\t\"lprice\":\"101900\",\n",
      "\t\t\t\"hprice\":\"\",\n",
      "\t\t\t\"mallName\":\"네이버\",\n",
      "\t\t\t\"productId\":\"49861966392\",\n",
      "\t\t\t\"productType\":\"1\",\n",
      "\t\t\t\"brand\":\"\",\n",
      "\t\t\t\"maker\":\"\",\n",
      "\t\t\t\"category1\":\"출산\\/육아\",\n",
      "\t\t\t\"category2\":\"완구\\/인형\",\n",
      "\t\t\t\"category3\":\"자연\\/과학완구\",\n",
      "\t\t\t\"category4\":\"기초로봇\"\n",
      "\t\t},\n",
      "\t\t{\n",
      "\t\t\t\"title\":\"초등학생 코딩수업 <b>파이썬<\\/b> 햄스터 코딩 로봇 20인용 과학 컴퓨터프로그래밍\",\n",
      "\t\t\t\"link\":\"https:\\/\\/search.shopping.naver.com\\/catalog\\/49579253809\",\n",
      "\t\t\t\"image\":\"https:\\/\\/shopping-phinf.pstatic.net\\/main_4957925\\/49579253809.20240802190718.jpg\",\n",
      "\t\t\t\"lprice\":\"2369390\",\n",
      "\t\t\t\"hprice\":\"\",\n",
      "\t\t\t\"mallName\":\"네이버\",\n",
      "\t\t\t\"productId\":\"49579253809\",\n",
      "\t\t\t\"productType\":\"1\",\n",
      "\t\t\t\"brand\":\"\",\n",
      "\t\t\t\"maker\":\"\",\n",
      "\t\t\t\"category1\":\"출산\\/육아\",\n",
      "\t\t\t\"category2\":\"완구\\/인형\",\n",
      "\t\t\t\"category3\":\"자연\\/과학완구\",\n",
      "\t\t\t\"category4\":\"기초로봇\"\n",
      "\t\t},\n",
      "\t\t{\n",
      "\t\t\t\"title\":\"길벗 <b>파이썬<\\/b> 코딩의 기술 51\",\n",
      "\t\t\t\"link\":\"https:\\/\\/search.shopping.naver.com\\/catalog\\/49898071451\",\n",
      "\t\t\t\"image\":\"https:\\/\\/shopping-phinf.pstatic.net\\/main_4989807\\/49898071451.20240821192747.jpg\",\n",
      "\t\t\t\"lprice\":\"29410\",\n",
      "\t\t\t\"hprice\":\"\",\n",
      "\t\t\t\"mallName\":\"네이버\",\n",
      "\t\t\t\"productId\":\"49898071451\",\n",
      "\t\t\t\"productType\":\"1\",\n",
      "\t\t\t\"brand\":\"\",\n",
      "\t\t\t\"maker\":\"길벗\",\n",
      "\t\t\t\"category1\":\"출산\\/육아\",\n",
      "\t\t\t\"category2\":\"완구\\/인형\",\n",
      "\t\t\t\"category3\":\"자연\\/과학완구\",\n",
      "\t\t\t\"category4\":\"기초로봇\"\n",
      "\t\t},\n",
      "\t\t{\n",
      "\t\t\t\"title\":\"<b>파이썬<\\/b> 코딩의 기술 개정2판 똑똑하게 코딩하는 법\",\n",
      "\t\t\t\"link\":\"https:\\/\\/search.shopping.naver.com\\/catalog\\/49442017394\",\n",
      "\t\t\t\"image\":\"https:\\/\\/shopping-phinf.pstatic.net\\/main_4944201\\/49442017394.20240727190721.jpg\",\n",
      "\t\t\t\"lprice\":\"28510\",\n",
      "\t\t\t\"hprice\":\"\",\n",
      "\t\t\t\"mallName\":\"네이버\",\n",
      "\t\t\t\"productId\":\"49442017394\",\n",
      "\t\t\t\"productType\":\"1\",\n",
      "\t\t\t\"brand\":\"\",\n",
      "\t\t\t\"maker\":\"\",\n",
      "\t\t\t\"category1\":\"출산\\/육아\",\n",
      "\t\t\t\"category2\":\"완구\\/인형\",\n",
      "\t\t\t\"category3\":\"자연\\/과학완구\",\n",
      "\t\t\t\"category4\":\"기초로봇\"\n",
      "\t\t},\n",
      "\t\t{\n",
      "\t\t\t\"title\":\"Hiwonder uHandPi 라즈베리 파이 로봇 손 AI 비전 <b>파이썬<\\/b> 프로그래밍\",\n",
      "\t\t\t\"link\":\"https:\\/\\/search.shopping.naver.com\\/catalog\\/48604002416\",\n",
      "\t\t\t\"image\":\"https:\\/\\/shopping-phinf.pstatic.net\\/main_4860400\\/48604002416.20240621215542.jpg\",\n",
      "\t\t\t\"lprice\":\"577370\",\n",
      "\t\t\t\"hprice\":\"\",\n",
      "\t\t\t\"mallName\":\"네이버\",\n",
      "\t\t\t\"productId\":\"48604002416\",\n",
      "\t\t\t\"productType\":\"1\",\n",
      "\t\t\t\"brand\":\"\",\n",
      "\t\t\t\"maker\":\"\",\n",
      "\t\t\t\"category1\":\"출산\\/육아\",\n",
      "\t\t\t\"category2\":\"완구\\/인형\",\n",
      "\t\t\t\"category3\":\"자연\\/과학완구\",\n",
      "\t\t\t\"category4\":\"기초로봇\"\n",
      "\t\t},\n",
      "\t\t{\n",
      "\t\t\t\"title\":\"프리렉 <b>파이썬<\\/b> 코딩 0교시\",\n",
      "\t\t\t\"link\":\"https:\\/\\/search.shopping.naver.com\\/catalog\\/49098854534\",\n",
      "\t\t\t\"image\":\"https:\\/\\/shopping-phinf.pstatic.net\\/main_4909885\\/49098854534.20240713011342.jpg\",\n",
      "\t\t\t\"lprice\":\"16200\",\n",
      "\t\t\t\"hprice\":\"\",\n",
      "\t\t\t\"mallName\":\"네이버\",\n",
      "\t\t\t\"productId\":\"49098854534\",\n",
      "\t\t\t\"productType\":\"1\",\n",
      "\t\t\t\"brand\":\"\",\n",
      "\t\t\t\"maker\":\"\",\n",
      "\t\t\t\"category1\":\"출산\\/육아\",\n",
      "\t\t\t\"category2\":\"완구\\/인형\",\n",
      "\t\t\t\"category3\":\"자연\\/과학완구\",\n",
      "\t\t\t\"category4\":\"기초로봇\"\n",
      "\t\t}\n",
      "\t]\n",
      "}\n"
     ]
    }
   ],
   "source": [
    "encText = urllib.parse.quote('파이썬')\n",
    "url = 'https://openapi.naver.com/v1/search/shop?query=' + encText\n",
    "request = urllib.request.Request(url)\n",
    "request.add_header('X-Naver-Client-Id', client_id)\n",
    "request.add_header('X-Naver-Client-Secret', client_secret)\n",
    "\n",
    "response = urlopen(request)\n",
    "print(response.read().decode('utf-8'))"
   ]
  },
  {
   "cell_type": "markdown",
   "metadata": {},
   "source": [
    "# 함수를 활용한 실습 - 몰스킨"
   ]
  },
  {
   "cell_type": "code",
   "execution_count": 13,
   "metadata": {},
   "outputs": [],
   "source": [
    "# 필요한 라이브러리 불러오기 \n",
    "import urllib\n",
    "import json\n",
    "import datetime\n",
    "from urllib.request import Request, urlopen\n",
    "\n",
    "# Client 정보 저장\n",
    "client_id = ''\n",
    "client_secret = ''"
   ]
  },
  {
   "cell_type": "markdown",
   "metadata": {},
   "source": [
    "- 검색 url 만들기"
   ]
  },
  {
   "cell_type": "code",
   "execution_count": 25,
   "metadata": {},
   "outputs": [],
   "source": [
    "def gen_search_url(api_node, search_text, start_num, disp_num):\n",
    "    base = 'https://openapi.naver.com/v1/search'\n",
    "    node = f'/{api_node}.json'\n",
    "    param_query = f'?query={urllib.parse.quote(search_text)}'\n",
    "    param_start = f'&start={str(start_num)}'\n",
    "    param_disp  = f'&display={str(disp_num)}'\n",
    "\n",
    "    return base + node + param_query + param_start + param_disp"
   ]
  },
  {
   "cell_type": "code",
   "execution_count": 26,
   "metadata": {},
   "outputs": [
    {
     "data": {
      "text/plain": [
       "'https://openapi.naver.com/v1/search/shop.json?query=TEST&start=10&display=3'"
      ]
     },
     "execution_count": 26,
     "metadata": {},
     "output_type": "execute_result"
    }
   ],
   "source": [
    "test_url = gen_search_url('shop', \"TEST\", 10, 3)\n",
    "test_url"
   ]
  },
  {
   "cell_type": "markdown",
   "metadata": {},
   "source": [
    "- page 정보 불러오기"
   ]
  },
  {
   "cell_type": "code",
   "execution_count": 27,
   "metadata": {},
   "outputs": [],
   "source": [
    "def get_result_onpage(url):\n",
    "    request = Request(url)\n",
    "    request.add_header('X-Naver-Client-Id', client_id)\n",
    "    request.add_header('X-Naver-Client-Secret', client_secret)\n",
    "\n",
    "    response = urlopen(request)\n",
    "    print(f'{datetime.datetime.now()} Url Request Sucess')\n",
    "\n",
    "    return json.loads(response.read().decode('utf-8'))"
   ]
  },
  {
   "cell_type": "code",
   "execution_count": 28,
   "metadata": {},
   "outputs": [
    {
     "name": "stdout",
     "output_type": "stream",
     "text": [
      "2024-08-29 11:26:03.317097 Url Request Sucess\n"
     ]
    },
    {
     "data": {
      "text/plain": [
       "{'lastBuildDate': 'Thu, 29 Aug 2024 11:26:03 +0900',\n",
       " 'total': 52219,\n",
       " 'start': 10,\n",
       " 'display': 3,\n",
       " 'items': [{'title': '다인펜 아큐 다인 미국 Accu Dyne <b>Test</b> 표면측정 1개구매가능',\n",
       "   'link': 'https://smartstore.naver.com/main/products/6717875882',\n",
       "   'image': 'https://shopping-phinf.pstatic.net/main_8426237/84262376204.4.jpg',\n",
       "   'lprice': '21250',\n",
       "   'hprice': '',\n",
       "   'mallName': 'JUST직구 태온글로벌',\n",
       "   'productId': '84262376204',\n",
       "   'productType': '2',\n",
       "   'brand': '',\n",
       "   'maker': '',\n",
       "   'category1': '생활/건강',\n",
       "   'category2': '공구',\n",
       "   'category3': '측정공구',\n",
       "   'category4': '기타측정기'},\n",
       "  {'title': 'DIAL <b>Test</b> Indicator 수평 확장 범위 0 0600 0005',\n",
       "   'link': 'https://search.shopping.naver.com/catalog/46141421098',\n",
       "   'image': 'https://shopping-phinf.pstatic.net/main_4614142/46141421098.20240302171951.jpg',\n",
       "   'lprice': '144500',\n",
       "   'hprice': '',\n",
       "   'mallName': '네이버',\n",
       "   'productId': '46141421098',\n",
       "   'productType': '1',\n",
       "   'brand': '',\n",
       "   'maker': '',\n",
       "   'category1': '생활/건강',\n",
       "   'category2': '공구',\n",
       "   'category3': '측정공구',\n",
       "   'category4': '기타측정기'},\n",
       "  {'title': '초음파 두께 측정기 시편 스틸 재질 <b>test</b> 금속 게이지',\n",
       "   'link': 'https://search.shopping.naver.com/catalog/49581340361',\n",
       "   'image': 'https://shopping-phinf.pstatic.net/main_4958134/49581340361.20240803001140.jpg',\n",
       "   'lprice': '94290',\n",
       "   'hprice': '',\n",
       "   'mallName': '네이버',\n",
       "   'productId': '49581340361',\n",
       "   'productType': '1',\n",
       "   'brand': '',\n",
       "   'maker': '',\n",
       "   'category1': '생활/건강',\n",
       "   'category2': '공구',\n",
       "   'category3': '측정공구',\n",
       "   'category4': '기타측정기'}]}"
      ]
     },
     "execution_count": 28,
     "metadata": {},
     "output_type": "execute_result"
    }
   ],
   "source": [
    "get_result_onpage(test_url)"
   ]
  },
  {
   "cell_type": "code",
   "execution_count": 42,
   "metadata": {},
   "outputs": [
    {
     "name": "stdout",
     "output_type": "stream",
     "text": [
      "2024-08-29 12:07:38.684944 Url Request Sucess\n"
     ]
    },
    {
     "data": {
      "text/plain": [
       "{'lastBuildDate': 'Thu, 29 Aug 2024 12:07:38 +0900',\n",
       " 'total': 33501,\n",
       " 'start': 1,\n",
       " 'display': 5,\n",
       " 'items': [{'title': '<b>몰스킨</b> 클래식노트 소프트커버',\n",
       "   'link': 'https://search.shopping.naver.com/catalog/46242305618',\n",
       "   'image': 'https://shopping-phinf.pstatic.net/main_4624230/46242305618.20240307141647.jpg',\n",
       "   'lprice': '19320',\n",
       "   'hprice': '',\n",
       "   'mallName': '네이버',\n",
       "   'productId': '46242305618',\n",
       "   'productType': '1',\n",
       "   'brand': '몰스킨',\n",
       "   'maker': '몰스킨',\n",
       "   'category1': '생활/건강',\n",
       "   'category2': '문구/사무용품',\n",
       "   'category3': '노트/수첩',\n",
       "   'category4': '노트'},\n",
       "  {'title': '<b>몰스킨</b> 클래식노트 하드커버',\n",
       "   'link': 'https://search.shopping.naver.com/catalog/46221773618',\n",
       "   'image': 'https://shopping-phinf.pstatic.net/main_4622177/46221773618.20240306165408.jpg',\n",
       "   'lprice': '28800',\n",
       "   'hprice': '',\n",
       "   'mallName': '네이버',\n",
       "   'productId': '46221773618',\n",
       "   'productType': '1',\n",
       "   'brand': '몰스킨',\n",
       "   'maker': '몰스킨',\n",
       "   'category1': '생활/건강',\n",
       "   'category2': '문구/사무용품',\n",
       "   'category3': '노트/수첩',\n",
       "   'category4': '노트'},\n",
       "  {'title': '<b>몰스킨</b> 2025 데일리 18개월 다이어리 라지 커버선택',\n",
       "   'link': 'https://search.shopping.naver.com/catalog/47751667019',\n",
       "   'image': 'https://shopping-phinf.pstatic.net/main_4775166/47751667019.20240516143435.jpg',\n",
       "   'lprice': '54000',\n",
       "   'hprice': '',\n",
       "   'mallName': '네이버',\n",
       "   'productId': '47751667019',\n",
       "   'productType': '1',\n",
       "   'brand': '몰스킨',\n",
       "   'maker': '몰스킨',\n",
       "   'category1': '생활/건강',\n",
       "   'category2': '문구/사무용품',\n",
       "   'category3': '다이어리/플래너',\n",
       "   'category4': '다이어리'},\n",
       "  {'title': '<b>몰스킨</b> 년 18개월 위클리 라지 large 다이어리 무료각인 2024-25',\n",
       "   'link': 'https://search.shopping.naver.com/catalog/47751139222',\n",
       "   'image': 'https://shopping-phinf.pstatic.net/main_4775113/47751139222.20240515152650.jpg',\n",
       "   'lprice': '40020',\n",
       "   'hprice': '',\n",
       "   'mallName': '네이버',\n",
       "   'productId': '47751139222',\n",
       "   'productType': '1',\n",
       "   'brand': '몰스킨',\n",
       "   'maker': '몰스킨',\n",
       "   'category1': '생활/건강',\n",
       "   'category2': '문구/사무용품',\n",
       "   'category3': '다이어리/플래너',\n",
       "   'category4': '다이어리'},\n",
       "  {'title': '<b>몰스킨</b> 클래식 룰드 하드커버 노트 라지',\n",
       "   'link': 'https://search.shopping.naver.com/catalog/39152380312',\n",
       "   'image': 'https://shopping-phinf.pstatic.net/main_3915238/39152380312.20240308010955.jpg',\n",
       "   'lprice': '23710',\n",
       "   'hprice': '',\n",
       "   'mallName': '네이버',\n",
       "   'productId': '39152380312',\n",
       "   'productType': '1',\n",
       "   'brand': '몰스킨',\n",
       "   'maker': '몰스킨',\n",
       "   'category1': '생활/건강',\n",
       "   'category2': '문구/사무용품',\n",
       "   'category3': '다이어리/플래너',\n",
       "   'category4': '다이어리'}]}"
      ]
     },
     "execution_count": 42,
     "metadata": {},
     "output_type": "execute_result"
    }
   ],
   "source": [
    "# 중간 테스트\n",
    "url = gen_search_url('shop', '몰스킨', 1, 5)\n",
    "test_result = get_result_onpage(url)\n",
    "test_result"
   ]
  },
  {
   "cell_type": "code",
   "execution_count": 43,
   "metadata": {},
   "outputs": [
    {
     "data": {
      "text/plain": [
       "'<b>몰스킨</b> 클래식노트 소프트커버'"
      ]
     },
     "execution_count": 43,
     "metadata": {},
     "output_type": "execute_result"
    }
   ],
   "source": [
    "test_result['items'][0]['title']"
   ]
  },
  {
   "cell_type": "code",
   "execution_count": 44,
   "metadata": {},
   "outputs": [
    {
     "data": {
      "text/plain": [
       "'19320'"
      ]
     },
     "execution_count": 44,
     "metadata": {},
     "output_type": "execute_result"
    }
   ],
   "source": [
    "test_result['items'][0]['lprice']"
   ]
  },
  {
   "cell_type": "code",
   "execution_count": 45,
   "metadata": {},
   "outputs": [
    {
     "data": {
      "text/plain": [
       "'네이버'"
      ]
     },
     "execution_count": 45,
     "metadata": {},
     "output_type": "execute_result"
    }
   ],
   "source": [
    "test_result['items'][0]['mallName']"
   ]
  },
  {
   "cell_type": "markdown",
   "metadata": {},
   "source": [
    "- pandas로 데이터 정형화 하기"
   ]
  },
  {
   "cell_type": "code",
   "execution_count": 47,
   "metadata": {},
   "outputs": [],
   "source": [
    "import pandas as pd\n",
    "def delete_tag(input_str):\n",
    "    input_str = input_str.replace('<b>', '')\n",
    "    input_str = input_str.replace('</b>', '')\n",
    "    return input_str\n",
    "\n",
    "def get_fields(json_data):\n",
    "    title = [delete_tag(each['title']) for each in json_data['items']]\n",
    "    link = [each['link'] for each in json_data['items']]\n",
    "    lprice = [each['lprice'] for each in json_data['items']]\n",
    "    hprice = [each['hprice'] for each in json_data['items']]\n",
    "    mall_name = [each['mallName'] for each in json_data['items']]\n",
    "\n",
    "    result_pd = pd.DataFrame({\n",
    "        'title':title,\n",
    "        'lprice':lprice,\n",
    "        'hprice':hprice,\n",
    "        'link':link,\n",
    "        'mall':mall_name\n",
    "        }, columns=['title','lprice','hprice','link','mall'])\n",
    "    \n",
    "    return result_pd"
   ]
  },
  {
   "cell_type": "code",
   "execution_count": 51,
   "metadata": {},
   "outputs": [
    {
     "data": {
      "text/plain": [
       "0    \n",
       "1    \n",
       "2    \n",
       "3    \n",
       "4    \n",
       "Name: hprice, dtype: object"
      ]
     },
     "execution_count": 51,
     "metadata": {},
     "output_type": "execute_result"
    }
   ],
   "source": [
    "pd_result = get_fields(test_result)\n",
    "pd_result"
   ]
  },
  {
   "cell_type": "code",
   "execution_count": 52,
   "metadata": {},
   "outputs": [
    {
     "name": "stdout",
     "output_type": "stream",
     "text": [
      "2024-08-29 12:13:47.074793 Url Request Sucess\n",
      "2024-08-29 12:13:47.197444 Url Request Sucess\n",
      "2024-08-29 12:13:47.432316 Url Request Sucess\n",
      "2024-08-29 12:13:47.686524 Url Request Sucess\n",
      "2024-08-29 12:13:47.924551 Url Request Sucess\n",
      "2024-08-29 12:13:48.054445 Url Request Sucess\n",
      "2024-08-29 12:13:48.312371 Url Request Sucess\n",
      "2024-08-29 12:13:48.592500 Url Request Sucess\n",
      "2024-08-29 12:13:48.849972 Url Request Sucess\n",
      "2024-08-29 12:13:49.118829 Url Request Sucess\n"
     ]
    }
   ],
   "source": [
    "result_mol = []\n",
    "\n",
    "for n in range(1, 1000, 100):\n",
    "    url = gen_search_url('shop', '\"몰스킨\"', n, 100)\n",
    "    json_result = get_result_onpage(url)\n",
    "    pd_result = get_fields(json_result)\n",
    "\n",
    "    result_mol.append(pd_result)\n",
    "\n",
    "result_mol = pd.concat(result_mol)"
   ]
  },
  {
   "cell_type": "code",
   "execution_count": 54,
   "metadata": {},
   "outputs": [
    {
     "name": "stdout",
     "output_type": "stream",
     "text": [
      "<class 'pandas.core.frame.DataFrame'>\n",
      "Index: 1000 entries, 0 to 99\n",
      "Data columns (total 5 columns):\n",
      " #   Column  Non-Null Count  Dtype \n",
      "---  ------  --------------  ----- \n",
      " 0   title   1000 non-null   object\n",
      " 1   lprice  1000 non-null   object\n",
      " 2   hprice  1000 non-null   object\n",
      " 3   link    1000 non-null   object\n",
      " 4   mall    1000 non-null   object\n",
      "dtypes: object(5)\n",
      "memory usage: 46.9+ KB\n"
     ]
    }
   ],
   "source": [
    "result_mol.info()"
   ]
  },
  {
   "cell_type": "code",
   "execution_count": 55,
   "metadata": {},
   "outputs": [
    {
     "name": "stdout",
     "output_type": "stream",
     "text": [
      "<class 'pandas.core.frame.DataFrame'>\n",
      "RangeIndex: 1000 entries, 0 to 999\n",
      "Data columns (total 5 columns):\n",
      " #   Column  Non-Null Count  Dtype \n",
      "---  ------  --------------  ----- \n",
      " 0   title   1000 non-null   object\n",
      " 1   lprice  1000 non-null   object\n",
      " 2   hprice  1000 non-null   object\n",
      " 3   link    1000 non-null   object\n",
      " 4   mall    1000 non-null   object\n",
      "dtypes: object(5)\n",
      "memory usage: 39.2+ KB\n"
     ]
    }
   ],
   "source": [
    "result_mol.reset_index(drop=True, inplace=True)\n",
    "result_mol.info()"
   ]
  },
  {
   "cell_type": "code",
   "execution_count": 56,
   "metadata": {},
   "outputs": [
    {
     "data": {
      "text/html": [
       "<div>\n",
       "<style scoped>\n",
       "    .dataframe tbody tr th:only-of-type {\n",
       "        vertical-align: middle;\n",
       "    }\n",
       "\n",
       "    .dataframe tbody tr th {\n",
       "        vertical-align: top;\n",
       "    }\n",
       "\n",
       "    .dataframe thead th {\n",
       "        text-align: right;\n",
       "    }\n",
       "</style>\n",
       "<table border=\"1\" class=\"dataframe\">\n",
       "  <thead>\n",
       "    <tr style=\"text-align: right;\">\n",
       "      <th></th>\n",
       "      <th>title</th>\n",
       "      <th>lprice</th>\n",
       "      <th>hprice</th>\n",
       "      <th>link</th>\n",
       "      <th>mall</th>\n",
       "    </tr>\n",
       "  </thead>\n",
       "  <tbody>\n",
       "    <tr>\n",
       "      <th>0</th>\n",
       "      <td>몰스킨 클래식노트 소프트커버</td>\n",
       "      <td>19320</td>\n",
       "      <td></td>\n",
       "      <td>https://search.shopping.naver.com/catalog/4624...</td>\n",
       "      <td>네이버</td>\n",
       "    </tr>\n",
       "    <tr>\n",
       "      <th>1</th>\n",
       "      <td>몰스킨 클래식노트 하드커버</td>\n",
       "      <td>28800</td>\n",
       "      <td></td>\n",
       "      <td>https://search.shopping.naver.com/catalog/4622...</td>\n",
       "      <td>네이버</td>\n",
       "    </tr>\n",
       "    <tr>\n",
       "      <th>2</th>\n",
       "      <td>[옐로우 입고] 로이텀 노트 불렛저널2 하드커버 A5 (4색상)</td>\n",
       "      <td>34400</td>\n",
       "      <td></td>\n",
       "      <td>https://smartstore.naver.com/main/products/582...</td>\n",
       "      <td>몰스킨스토어</td>\n",
       "    </tr>\n",
       "    <tr>\n",
       "      <th>3</th>\n",
       "      <td>[무료배송] 로이텀 노트 하드커버 A5 2024 신규컬러</td>\n",
       "      <td>31680</td>\n",
       "      <td></td>\n",
       "      <td>https://smartstore.naver.com/main/products/955...</td>\n",
       "      <td>몰스킨스토어</td>\n",
       "    </tr>\n",
       "    <tr>\n",
       "      <th>4</th>\n",
       "      <td>몰스킨 클래식노트 플레인 소프트커버 포켓Pocke</td>\n",
       "      <td>20346</td>\n",
       "      <td></td>\n",
       "      <td>https://search.shopping.naver.com/catalog/3065...</td>\n",
       "      <td>네이버</td>\n",
       "    </tr>\n",
       "  </tbody>\n",
       "</table>\n",
       "</div>"
      ],
      "text/plain": [
       "                                 title lprice hprice  \\\n",
       "0                      몰스킨 클래식노트 소프트커버  19320          \n",
       "1                       몰스킨 클래식노트 하드커버  28800          \n",
       "2  [옐로우 입고] 로이텀 노트 불렛저널2 하드커버 A5 (4색상)  34400          \n",
       "3      [무료배송] 로이텀 노트 하드커버 A5 2024 신규컬러  31680          \n",
       "4          몰스킨 클래식노트 플레인 소프트커버 포켓Pocke  20346          \n",
       "\n",
       "                                                link    mall  \n",
       "0  https://search.shopping.naver.com/catalog/4624...     네이버  \n",
       "1  https://search.shopping.naver.com/catalog/4622...     네이버  \n",
       "2  https://smartstore.naver.com/main/products/582...  몰스킨스토어  \n",
       "3  https://smartstore.naver.com/main/products/955...  몰스킨스토어  \n",
       "4  https://search.shopping.naver.com/catalog/3065...     네이버  "
      ]
     },
     "execution_count": 56,
     "metadata": {},
     "output_type": "execute_result"
    }
   ],
   "source": [
    "result_mol.head()"
   ]
  },
  {
   "cell_type": "code",
   "execution_count": 64,
   "metadata": {},
   "outputs": [
    {
     "name": "stdout",
     "output_type": "stream",
     "text": [
      "<class 'pandas.core.frame.DataFrame'>\n",
      "RangeIndex: 1000 entries, 0 to 999\n",
      "Data columns (total 5 columns):\n",
      " #   Column  Non-Null Count  Dtype  \n",
      "---  ------  --------------  -----  \n",
      " 0   title   1000 non-null   object \n",
      " 1   lprice  1000 non-null   float64\n",
      " 2   hprice  1000 non-null   float64\n",
      " 3   link    1000 non-null   object \n",
      " 4   mall    1000 non-null   object \n",
      "dtypes: float64(2), object(3)\n",
      "memory usage: 39.2+ KB\n"
     ]
    },
    {
     "name": "stderr",
     "output_type": "stream",
     "text": [
      "/tmp/ipykernel_54388/2432369020.py:2: FutureWarning: Downcasting behavior in `replace` is deprecated and will be removed in a future version. To retain the old behavior, explicitly call `result.infer_objects(copy=False)`. To opt-in to the future behavior, set `pd.set_option('future.no_silent_downcasting', True)`\n",
      "  result_mol['hprice'] = result_mol['hprice'].replace('', 0).astype('float')\n"
     ]
    }
   ],
   "source": [
    "result_mol['lprice'] = result_mol['lprice'].astype('float')\n",
    "result_mol['hprice'] = result_mol['hprice'].replace('', 0).astype('float')\n",
    "result_mol.info()"
   ]
  },
  {
   "cell_type": "code",
   "execution_count": 71,
   "metadata": {},
   "outputs": [],
   "source": [
    "result_mol = result_mol.sort_values(by='lprice').reset_index(drop=True)"
   ]
  },
  {
   "cell_type": "markdown",
   "metadata": {},
   "source": [
    "- 데이터 엑셀로 저장"
   ]
  },
  {
   "cell_type": "code",
   "execution_count": 72,
   "metadata": {},
   "outputs": [],
   "source": [
    "writer = pd.ExcelWriter('./molskin_diary_in_naver_shop.xlsx',\n",
    "                        engine='xlsxwriter')\n",
    "result_mol.to_excel(writer, sheet_name='Sheet1')\n",
    "\n",
    "workbook = writer.book\n",
    "workbook = writer.sheets['Sheet1']\n",
    "workbook.set_column('A:A', 4)\n",
    "workbook.set_column('B:B', 65)\n",
    "workbook.set_column('C:C', 10) \n",
    "workbook.set_column('D:D', 10)\n",
    "workbook.set_column('E:E', 50)\n",
    "workbook.set_column('F:F', 15)\n",
    "\n",
    "workbook.conditional_format('C2:C1001', {'type':'3_color_scale'})\n",
    "\n",
    "writer.close()\n"
   ]
  }
 ],
 "metadata": {
  "kernelspec": {
   "display_name": "eda_venv",
   "language": "python",
   "name": "python3"
  },
  "language_info": {
   "codemirror_mode": {
    "name": "ipython",
    "version": 3
   },
   "file_extension": ".py",
   "mimetype": "text/x-python",
   "name": "python",
   "nbconvert_exporter": "python",
   "pygments_lexer": "ipython3",
   "version": "3.10.12"
  }
 },
 "nbformat": 4,
 "nbformat_minor": 2
}
