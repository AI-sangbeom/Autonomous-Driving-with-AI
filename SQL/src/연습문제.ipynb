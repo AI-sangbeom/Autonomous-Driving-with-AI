{
 "cells": [
  {
   "cell_type": "markdown",
   "metadata": {},
   "source": [
    "# 시카고 데이터 생성"
   ]
  },
  {
   "cell_type": "markdown",
   "metadata": {},
   "source": [
    "- 테이블 생성"
   ]
  },
  {
   "cell_type": "code",
   "execution_count": 20,
   "metadata": {},
   "outputs": [],
   "source": [
    "import mysql.connector as mc\n",
    "\n",
    "remote = mc.connect(\n",
    "    host = 'localhost',\n",
    "    user = 'robot',\n",
    "    password = '1234',\n",
    "    database = 'armbase',\n",
    ")\n",
    "\n",
    "cur = remote.cursor(buffered=True)\n",
    "sql = '''CREATE TABLE sandwich (\n",
    "ranking INT,\n",
    "cafe VARCHAR(32),\n",
    "menu VARCHAR(64),\n",
    "price FLOAT,\n",
    "address VARCHAR(34)\n",
    ")'''\n",
    "\n",
    "cur.execute(sql)\n",
    "remote.commit()"
   ]
  },
  {
   "cell_type": "markdown",
   "metadata": {},
   "source": [
    "- 데이터 url 불러오기"
   ]
  },
  {
   "cell_type": "code",
   "execution_count": 21,
   "metadata": {},
   "outputs": [],
   "source": [
    "import re\n",
    "import pandas as pd\n",
    "from bs4 import BeautifulSoup\n",
    "from urllib.request import urlopen, Request\n",
    "from urllib.parse import urljoin # 절대주소와 상대주소를 구분하기 위해 사용\n",
    "## user agent 활용\n",
    "from user_agent import generate_user_agent\n",
    "\n",
    "def open_html(url):\n",
    "    req = Request(url=url, headers={'User-Agent':generate_user_agent()})\n",
    "    res = urlopen(req)\n",
    "    return BeautifulSoup(res, 'html.parser')\n",
    "\n",
    "url = 'https://www.chicagomag.com/chicago-magazine/november-2012/best-sandwiches-chicago/'\n",
    "soup = open_html(url)\n",
    "\n",
    "# print(soup.prettify())"
   ]
  },
  {
   "cell_type": "markdown",
   "metadata": {},
   "source": [
    "- 데이터 입력"
   ]
  },
  {
   "cell_type": "code",
   "execution_count": 22,
   "metadata": {},
   "outputs": [
    {
     "data": {
      "application/vnd.jupyter.widget-view+json": {
       "model_id": "2d5f80796c384873882300be47f86745",
       "version_major": 2,
       "version_minor": 0
      },
      "text/plain": [
       "  0%|          | 0/50 [00:00<?, ?it/s]"
      ]
     },
     "metadata": {},
     "output_type": "display_data"
    }
   ],
   "source": [
    "from tqdm.notebook import tqdm\n",
    "\n",
    "import mysql.connector as mc\n",
    "\n",
    "remote = mc.connect(\n",
    "    host = 'localhost',\n",
    "    user = 'robot',\n",
    "    password = '1234',\n",
    "    database = 'armbase',\n",
    ")\n",
    "\n",
    "cur = remote.cursor(buffered=True)\n",
    "sql = '''INSERT INTO sandwich VALUES (%s, %s, %s, %s, %s)'''\n",
    "\n",
    "prefix = 'http://www.chicagomag.com'\n",
    "\n",
    "pbar = tqdm(soup.find_all('div', 'sammy'),\n",
    "            total=len(soup.find_all('div', 'sammy')),\n",
    "            # ncols=80,\n",
    "            leave=True)\n",
    "\n",
    "for each in pbar:\n",
    "    rank, menu, name, _ = each.get_text().strip().split('\\n')\n",
    "    href = urljoin(prefix, each.find('a')['href'])\n",
    "    store_soup = open_html(href)\n",
    "    text = store_soup.find('p', 'addy').get_text().strip().split(',')[0]\n",
    "    price = re.search('\\$\\d+.(\\d+)?', text).group()\n",
    "    address = text[len(price)+1:]\n",
    "    cur.execute(sql, (int(rank), name, menu, float(price[1:]), address))\n",
    "\n",
    "    pbar.set_description(f'{name} Searching')\n",
    "\n",
    "remote.commit()\n",
    "remote.close()"
   ]
  },
  {
   "cell_type": "code",
   "execution_count": 23,
   "metadata": {},
   "outputs": [
    {
     "data": {
      "text/html": [
       "<div>\n",
       "<style scoped>\n",
       "    .dataframe tbody tr th:only-of-type {\n",
       "        vertical-align: middle;\n",
       "    }\n",
       "\n",
       "    .dataframe tbody tr th {\n",
       "        vertical-align: top;\n",
       "    }\n",
       "\n",
       "    .dataframe thead th {\n",
       "        text-align: right;\n",
       "    }\n",
       "</style>\n",
       "<table border=\"1\" class=\"dataframe\">\n",
       "  <thead>\n",
       "    <tr style=\"text-align: right;\">\n",
       "      <th></th>\n",
       "      <th>ranking</th>\n",
       "      <th>cafe</th>\n",
       "      <th>menu</th>\n",
       "      <th>price</th>\n",
       "      <th>address</th>\n",
       "    </tr>\n",
       "  </thead>\n",
       "  <tbody>\n",
       "    <tr>\n",
       "      <th>0</th>\n",
       "      <td>1</td>\n",
       "      <td>Old Oak Tap</td>\n",
       "      <td>BLT</td>\n",
       "      <td>10.0</td>\n",
       "      <td>2109 W. Chicago Ave.</td>\n",
       "    </tr>\n",
       "    <tr>\n",
       "      <th>1</th>\n",
       "      <td>2</td>\n",
       "      <td>Au Cheval</td>\n",
       "      <td>Fried Bologna</td>\n",
       "      <td>9.0</td>\n",
       "      <td>800 W. Randolph St.</td>\n",
       "    </tr>\n",
       "    <tr>\n",
       "      <th>2</th>\n",
       "      <td>3</td>\n",
       "      <td>Xoco</td>\n",
       "      <td>Woodland Mushroom</td>\n",
       "      <td>9.5</td>\n",
       "      <td>445 N. Clark St.</td>\n",
       "    </tr>\n",
       "    <tr>\n",
       "      <th>3</th>\n",
       "      <td>4</td>\n",
       "      <td>Al’s Deli</td>\n",
       "      <td>Roast Beef</td>\n",
       "      <td>9.4</td>\n",
       "      <td>914 Noyes St.</td>\n",
       "    </tr>\n",
       "    <tr>\n",
       "      <th>4</th>\n",
       "      <td>5</td>\n",
       "      <td>Publican Quality Meats</td>\n",
       "      <td>PB&amp;L</td>\n",
       "      <td>10.0</td>\n",
       "      <td>825 W. Fulton Mkt.</td>\n",
       "    </tr>\n",
       "  </tbody>\n",
       "</table>\n",
       "</div>"
      ],
      "text/plain": [
       "   ranking                    cafe               menu  price  \\\n",
       "0        1             Old Oak Tap                BLT   10.0   \n",
       "1        2               Au Cheval      Fried Bologna    9.0   \n",
       "2        3                    Xoco  Woodland Mushroom    9.5   \n",
       "3        4               Al’s Deli         Roast Beef    9.4   \n",
       "4        5  Publican Quality Meats               PB&L   10.0   \n",
       "\n",
       "                address  \n",
       "0  2109 W. Chicago Ave.  \n",
       "1   800 W. Randolph St.  \n",
       "2      445 N. Clark St.  \n",
       "3         914 Noyes St.  \n",
       "4    825 W. Fulton Mkt.  "
      ]
     },
     "execution_count": 23,
     "metadata": {},
     "output_type": "execute_result"
    }
   ],
   "source": [
    "remote = mc.connect(\n",
    "    host = 'localhost',\n",
    "    user = 'robot',\n",
    "    password = '1234',\n",
    "    database = 'armbase',\n",
    ")\n",
    "\n",
    "cur = remote.cursor()\n",
    "cur.execute('select * from sandwich')\n",
    "result = cur.fetchall()\n",
    "remote.close()\n",
    "df = pd.DataFrame(result, columns=['ranking', 'cafe', 'menu', 'price', 'address'])\n",
    "df.head()\n"
   ]
  }
 ],
 "metadata": {
  "kernelspec": {
   "display_name": "eda_venv",
   "language": "python",
   "name": "python3"
  },
  "language_info": {
   "codemirror_mode": {
    "name": "ipython",
    "version": 3
   },
   "file_extension": ".py",
   "mimetype": "text/x-python",
   "name": "python",
   "nbconvert_exporter": "python",
   "pygments_lexer": "ipython3",
   "version": "3.10.12"
  }
 },
 "nbformat": 4,
 "nbformat_minor": 2
}
