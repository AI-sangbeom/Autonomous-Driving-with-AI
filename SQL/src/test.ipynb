{
 "cells": [
  {
   "cell_type": "code",
   "execution_count": 1,
   "metadata": {},
   "outputs": [],
   "source": [
    "import mysql.connector"
   ]
  },
  {
   "cell_type": "code",
   "execution_count": 4,
   "metadata": {},
   "outputs": [],
   "source": [
    "mydb = mysql.connector.connect(\n",
    "    host=\"localhost\",\n",
    "    user=\"root\",\n",
    "    password=\"********\"\n",
    ")"
   ]
  },
  {
   "cell_type": "code",
   "execution_count": 5,
   "metadata": {},
   "outputs": [],
   "source": [
    "remote = mysql.connector.connect(\n",
    "    host=\"AWS RDS\",\n",
    "    port=\"3306\",\n",
    "    user=\"root\",\n",
    "    password=\"********\",\n",
    ")"
   ]
  },
  {
   "cell_type": "code",
   "execution_count": 6,
   "metadata": {},
   "outputs": [],
   "source": [
    "local = mydb = mysql.connector.connect(\n",
    "    host=\"localhost\",\n",
    "    user=\"root\",\n",
    "    password=\"********\",\n",
    "    database='armbase'\n",
    ")"
   ]
  },
  {
   "cell_type": "code",
   "execution_count": 5,
   "metadata": {},
   "outputs": [],
   "source": [
    "local.close()"
   ]
  },
  {
   "cell_type": "code",
   "execution_count": 6,
   "metadata": {},
   "outputs": [],
   "source": [
    "remote.close()"
   ]
  },
  {
   "cell_type": "code",
   "execution_count": 7,
   "metadata": {},
   "outputs": [],
   "source": [
    "local = mysql.connector.connect(\n",
    "    host=\"localhost\",\n",
    "    user=\"root\",\n",
    "    password=\"********\",\n",
    "    database='armbase',\n",
    "    port=3306\n",
    ")"
   ]
  },
  {
   "cell_type": "code",
   "execution_count": 8,
   "metadata": {},
   "outputs": [],
   "source": [
    "local.close()"
   ]
  },
  {
   "cell_type": "code",
   "execution_count": 9,
   "metadata": {},
   "outputs": [],
   "source": [
    "import mysql.connector\n",
    "\n",
    "remote = mysql.connector.connect(\n",
    "    host=\"AWS RDS\",\n",
    "    port=\"3306\",\n",
    "    user=\"root\",\n",
    "    password=\"********\",\n",
    "    database='armbase'\n",
    ")"
   ]
  },
  {
   "cell_type": "code",
   "execution_count": 10,
   "metadata": {},
   "outputs": [],
   "source": [
    "cur = remote.cursor()\n",
    "cur.execute('CREATE TABLE sql_file (id int, filename varchar(16))')\n",
    "\n",
    "remote.close()"
   ]
  },
  {
   "cell_type": "code",
   "execution_count": 11,
   "metadata": {},
   "outputs": [],
   "source": [
    "remote = mysql.connector.connect(\n",
    "    host=\"AWS RDS\",\n",
    "    port=\"3306\",\n",
    "    user=\"root\",\n",
    "    password=\"********\",\n",
    "    database='armbase'\n",
    ")\n",
    "\n",
    "cur = remote.cursor()\n",
    "cur.execute('DROP TABLE sql_file')\n",
    "\n",
    "remote.close()"
   ]
  },
  {
   "cell_type": "code",
   "execution_count": 25,
   "metadata": {},
   "outputs": [],
   "source": [
    "mydb = mysql.connector.connect(\n",
    "    host=\"AWS RDS\",\n",
    "    user=\"root\",\n",
    "    password=\"********\",\n",
    "    database='armbase'\n",
    ")\n",
    "\n",
    "mycur = mydb.cursor()\n",
    "sql = open('./../dev/sql/test03.sql').read()\n",
    "mycur.execute(sql)\n",
    "remote.close()"
   ]
  },
  {
   "cell_type": "code",
   "execution_count": 27,
   "metadata": {},
   "outputs": [],
   "source": [
    "remote = mysql.connector.connect(\n",
    "    host=\"AWS RDS\",\n",
    "    port=\"3306\",\n",
    "    user=\"root\",\n",
    "    password=\"********\",\n",
    "    database='armbase'\n",
    ")\n",
    "\n",
    "cur = remote.cursor()\n",
    "sql = open('./../dev/sql/test04.sql').read()\n",
    "cur.execute(sql)\n",
    "remote.close()"
   ]
  },
  {
   "cell_type": "code",
   "execution_count": 29,
   "metadata": {},
   "outputs": [
    {
     "name": "stdout",
     "output_type": "stream",
     "text": [
      "INSERT INTO sql_file VALUE (1,\"test01.sql\")\n",
      "INSERT INTO sql_file VALUE (2,\"test02.sql\")\n",
      "INSERT INTO sql_file VALUE (3,\"test03.sql\")\n",
      "INSERT INTO sql_file VALUE (4,\"test04.sql\")\n"
     ]
    }
   ],
   "source": [
    "remote = mysql.connector.connect(\n",
    "    host=\"AWS RDS\",\n",
    "    user=\"root\",\n",
    "    password=\"********\",\n",
    "    database='armbase'\n",
    ")\n",
    "\n",
    "cur = remote.cursor()\n",
    "\n",
    "\n",
    "sql = open('./../dev/sql/test04.sql').read()\n",
    "for result_iterator in cur.execute(sql, multi=True):\n",
    "    if result_iterator.with_rows:\n",
    "        print(result_iterator.fetchall())\n",
    "    else:\n",
    "        print(result_iterator.statement)\n",
    "\n",
    "remote.commit()\n",
    "remote.close()"
   ]
  },
  {
   "cell_type": "code",
   "execution_count": 30,
   "metadata": {},
   "outputs": [
    {
     "name": "stdout",
     "output_type": "stream",
     "text": [
      "(1, 'test01.sql')\n",
      "(2, 'test02.sql')\n",
      "(3, 'test03.sql')\n",
      "(4, 'test04.sql')\n"
     ]
    }
   ],
   "source": [
    "remote = mysql.connector.connect(\n",
    "    host=\"AWS RDS\",\n",
    "    user=\"root\",\n",
    "    password=\"********\",\n",
    "    database='armbase'\n",
    ")\n",
    "\n",
    "cur = remote.cursor(buffered=True)\n",
    "cur.execute(\"SELECT * FROM sql_file\")\n",
    "\n",
    "result = cur.fetchall()\n",
    "for data in result:\n",
    "    print(data)"
   ]
  },
  {
   "cell_type": "code",
   "execution_count": 32,
   "metadata": {},
   "outputs": [
    {
     "data": {
      "text/html": [
       "<div>\n",
       "<style scoped>\n",
       "    .dataframe tbody tr th:only-of-type {\n",
       "        vertical-align: middle;\n",
       "    }\n",
       "\n",
       "    .dataframe tbody tr th {\n",
       "        vertical-align: top;\n",
       "    }\n",
       "\n",
       "    .dataframe thead th {\n",
       "        text-align: right;\n",
       "    }\n",
       "</style>\n",
       "<table border=\"1\" class=\"dataframe\">\n",
       "  <thead>\n",
       "    <tr style=\"text-align: right;\">\n",
       "      <th></th>\n",
       "      <th>0</th>\n",
       "      <th>1</th>\n",
       "    </tr>\n",
       "  </thead>\n",
       "  <tbody>\n",
       "    <tr>\n",
       "      <th>0</th>\n",
       "      <td>1</td>\n",
       "      <td>test01.sql</td>\n",
       "    </tr>\n",
       "    <tr>\n",
       "      <th>1</th>\n",
       "      <td>2</td>\n",
       "      <td>test02.sql</td>\n",
       "    </tr>\n",
       "    <tr>\n",
       "      <th>2</th>\n",
       "      <td>3</td>\n",
       "      <td>test03.sql</td>\n",
       "    </tr>\n",
       "    <tr>\n",
       "      <th>3</th>\n",
       "      <td>4</td>\n",
       "      <td>test04.sql</td>\n",
       "    </tr>\n",
       "  </tbody>\n",
       "</table>\n",
       "</div>"
      ],
      "text/plain": [
       "   0           1\n",
       "0  1  test01.sql\n",
       "1  2  test02.sql\n",
       "2  3  test03.sql\n",
       "3  4  test04.sql"
      ]
     },
     "execution_count": 32,
     "metadata": {},
     "output_type": "execute_result"
    }
   ],
   "source": [
    "import pandas as pd\n",
    "\n",
    "df = pd.DataFrame(result)\n",
    "df.head()"
   ]
  }
 ],
 "metadata": {
  "kernelspec": {
   "display_name": "eda_venv",
   "language": "python",
   "name": "python3"
  },
  "language_info": {
   "codemirror_mode": {
    "name": "ipython",
    "version": 3
   },
   "file_extension": ".py",
   "mimetype": "text/x-python",
   "name": "python",
   "nbconvert_exporter": "python",
   "pygments_lexer": "ipython3",
   "version": "3.10.12"
  }
 },
 "nbformat": 4,
 "nbformat_minor": 2
}
