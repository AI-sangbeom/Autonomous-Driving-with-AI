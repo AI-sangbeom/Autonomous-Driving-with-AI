{
 "cells": [
  {
   "cell_type": "code",
   "execution_count": 2,
   "metadata": {},
   "outputs": [],
   "source": [
    "import cv2 as cv\n",
    "import numpy as np\n",
    "import matplotlib.pyplot as plt"
   ]
  },
  {
   "cell_type": "code",
   "execution_count": 24,
   "metadata": {},
   "outputs": [],
   "source": [
    "img = np.ones((512,512,3), np.uint8)\n",
    "\n",
    "def draw_circle(event, x, y, flags, param):\n",
    "    if event == cv.EVENT_LBUTTONDOWN:\n",
    "        cv.circle(img, (x,y), 10, (50, 50, 200), -1)\n",
    "    \n",
    "    if event == cv.EVENT_RBUTTONDOWN:\n",
    "        cv.circle(img, (x,y), 10, (200, 50, 50), -1)\n",
    "\n",
    "cv.namedWindow(winname='my_drawing')\n",
    "cv.setMouseCallback('my_drawing', draw_circle)\n",
    "\n",
    "while True:\n",
    "    cv.imshow('my_drawing', img)\n",
    "    if cv.waitKey(10) == 27:\n",
    "        break\n",
    "cv.destroyAllWindows()"
   ]
  },
  {
   "cell_type": "code",
   "execution_count": 21,
   "metadata": {},
   "outputs": [
    {
     "name": "stdout",
     "output_type": "stream",
     "text": [
      "EVENT_LBUTTONDOWN: 248, 256\n",
      "EVENT_LBUTTONUP: 248, 256\n",
      "EVENT_LBUTTONDOWN: 418, 199\n",
      "EVENT_LBUTTONUP: 418, 199\n",
      "EVENT_LBUTTONDOWN: 158, 261\n",
      "EVENT_LBUTTONUP: 370, 234\n",
      "EVENT_LBUTTONDOWN: 458, 128\n",
      "EVENT_LBUTTONUP: 458, 128\n",
      "EVENT_LBUTTONDOWN: 170, 110\n",
      "EVENT_LBUTTONUP: 170, 294\n",
      "EVENT_LBUTTONDOWN: 170, 294\n",
      "EVENT_LBUTTONUP: 411, 89\n",
      "EVENT_LBUTTONDOWN: 411, 89\n",
      "EVENT_LBUTTONUP: 405, 307\n"
     ]
    }
   ],
   "source": [
    "oldx = oldy = -1\n",
    "\n",
    "def on_mouse(event, x, y, flags, param):\n",
    "    global oldx, oldy\n",
    "\n",
    "    if event == cv.EVENT_LBUTTONDOWN:\n",
    "        oldx, oldy = x, y\n",
    "        print('EVENT_LBUTTONDOWN: %d, %d' % (x, y))\n",
    "\n",
    "    elif event == cv.EVENT_LBUTTONUP:\n",
    "        print('EVENT_LBUTTONUP: %d, %d' % (x, y))\n",
    "\n",
    "    elif event == cv.EVENT_MOUSEMOVE:\n",
    "        if flags == cv.EVENT_FLAG_LBUTTON:\n",
    "            cv.rectangle(img, (oldx, oldy), (x, y), (0, 255, 0), cv.LINE_AA)\n",
    "            oldx, oldy = x, y\n",
    "\n",
    "img = np.ones((480, 640, 3), np.uint8) *255\n",
    "\n",
    "cv.namedWindow('image')\n",
    "cv.setMouseCallback('image', on_mouse, img)\n",
    "cv.imshow('image', img)\n",
    "\n",
    "cv.waitKey(0)\n",
    "cv.destroyAllWindows()"
   ]
  },
  {
   "cell_type": "code",
   "execution_count": 17,
   "metadata": {},
   "outputs": [
    {
     "name": "stderr",
     "output_type": "stream",
     "text": [
      "Clipping input data to the valid range for imshow with RGB data ([0..1] for floats or [0..255] for integers). Got range [0.0..255.0].\n"
     ]
    },
    {
     "data": {
      "text/plain": [
       "<matplotlib.image.AxesImage at 0x7ab477f6e650>"
      ]
     },
     "execution_count": 17,
     "metadata": {},
     "output_type": "execute_result"
    },
    {
     "data": {
      "image/png": "[encoded data removed]",
      "text/plain": [
       "<Figure size 640x480 with 1 Axes>"
      ]
     },
     "metadata": {},
     "output_type": "display_data"
    }
   ],
   "source": [
    "cv.rectangle(blank_img, pt1=(382, 100), pt2=(510, 150), color=(0, 255, 0), thickness=10)\n",
    "plt.imshow(blank_img)"
   ]
  }
 ],
 "metadata": {
  "kernelspec": {
   "display_name": "Python 3",
   "language": "python",
   "name": "python3"
  },
  "language_info": {
   "codemirror_mode": {
    "name": "ipython",
    "version": 3
   },
   "file_extension": ".py",
   "mimetype": "text/x-python",
   "name": "python",
   "nbconvert_exporter": "python",
   "pygments_lexer": "ipython3",
   "version": "3.10.12"
  }
 },
 "nbformat": 4,
 "nbformat_minor": 2
}
